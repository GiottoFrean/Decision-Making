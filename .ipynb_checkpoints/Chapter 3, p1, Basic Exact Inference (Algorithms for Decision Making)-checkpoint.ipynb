{
 "cells": [
  {
   "cell_type": "code",
   "execution_count": 1,
   "metadata": {},
   "outputs": [],
   "source": [
    "import numpy as np\n",
    "import matplotlib.pyplot as plt\n",
    "import plotly.graph_objects as go\n",
    "from plotly.subplots import make_subplots\n",
    "from scipy.stats import multivariate_normal\n",
    "import plotly.figure_factory as ff\n",
    "import networkx as nx"
   ]
  },
  {
   "cell_type": "markdown",
   "metadata": {},
   "source": [
    "### Inference in a Bayesian Network\n",
    "Inference concerns finding the distribution over some unknown variables given some known/observed variables. <br>\n",
    "Consider the below problem: <br>\n",
    "You know both earthquakes and burglars have a chance to set off the alarm in your house. The alarm going off can cause Mary or Jane to call you. The factor graph representing the situation is below. Earthquakes (E) and Burglars (B) are independent. Mary calling (M) and Jane calling (J) are also independent given the Alarm (A). All variables are binary (0=no, 1=yes).    "
   ]
  },
  {
   "cell_type": "code",
   "execution_count": 2,
   "metadata": {},
   "outputs": [],
   "source": [
    "def make_factor_graph(var_nodes,factor_nodes,labels,edges,positions):\n",
    "    G=nx.DiGraph()\n",
    "    G.add_nodes_from(var_nodes)\n",
    "    G.add_nodes_from(factor_nodes)\n",
    "    G.add_edges_from(edges)\n",
    "    plt.figure(figsize=(4,4))\n",
    "    nx.draw_networkx_nodes(G,positions,nodelist=var_nodes,node_shape='o',node_size=600,node_color=\"yellow\")\n",
    "    nx.draw_networkx_nodes(G,positions,nodelist=factor_nodes,node_shape='s',node_size=200,node_color=\"black\")\n",
    "    nx.draw_networkx_edges(G,positions,edgelist=edges,width=5,arrows=False)\n",
    "    nx.draw_networkx_labels(G, positions,labels,font_size=16)\n",
    "    plt.show()"
   ]
  },
  {
   "cell_type": "code",
   "execution_count": 3,
   "metadata": {},
   "outputs": [
    {
     "data": {
      "image/png": "[encoded data removed]",
      "text/plain": [
       "<Figure size 288x288 with 1 Axes>"
      ]
     },
     "metadata": {},
     "output_type": "display_data"
    }
   ],
   "source": [
    "G1_variable_nodes = [\"E\",\"B\",\"A\",\"J\",\"M\"]\n",
    "G1_factor_nodes = [\"f1\",\"f2\",\"f3\",\"f4\",\"f5\"]\n",
    "G1labels = {\"E\":\"E\",\"B\":\"B\",\"A\":\"A\",\"J\":\"J\",\"M\":\"M\"}\n",
    "G1_edges = [(\"f1\",\"E\"),(\"f2\",\"B\"),(\"E\",\"f3\"),(\"B\",\"f3\"),(\"f3\",\"A\"),(\"A\",\"f4\"),(\"A\",\"f5\"),(\"f4\",\"J\"),(\"f5\",\"M\")]\n",
    "G1positions = {\"E\":[0,4],\"B\":[2,4],\"A\":[1,2],\"J\":[0,0],\"M\":[2,0],\"f1\":[0,5],\"f2\":[2,5],\"f3\":[1,3],\"f4\":[0.5,1],\"f5\":[1.5,1]}\n",
    "make_factor_graph(G1_variable_nodes,G1_factor_nodes,G1labels,G1_edges,G1positions)"
   ]
  },
  {
   "cell_type": "markdown",
   "metadata": {},
   "source": [
    "Say the conditional probabilities are known to you: <br>\n",
    "$p(E^1)=0.03$ <br>\n",
    "$p(B^1)=0.05$ <br>\n",
    "$p(A^1|E^0,B^0) = 0.01$ <br>\n",
    "$p(A^1|E^0,B^1) = 0.92$ <br>\n",
    "$p(A^1|E^1,B^0) = 0.97$ <br>\n",
    "$p(A^1|E^1,B^1) = 0.99$ <br>\n",
    "$p(J^1|A^1)=0.75$ <br>\n",
    "$p(J^1|A^0)=0.15$ <br>\n",
    "$p(M^1|A^1)=0.95$ <br>\n",
    "$p(M^1|A^0)=0.25$ <br>"
   ]
  },
  {
   "cell_type": "markdown",
   "metadata": {},
   "source": [
    "The particular expansion of the joint: <br>\n",
    "$p(E,B,A,J,M)=p(M|E,B,A,J)p(J|E,B,A)p(A|E,B)p(B|E)p(E)$ <br>\n",
    "With the assumptions: <br>\n",
    "$p(E,B,A,J,M)=p(M|A)p(J|A)p(A|E,B)p(B)p(E)$ <br>"
   ]
  },
  {
   "cell_type": "code",
   "execution_count": 8,
   "metadata": {},
   "outputs": [],
   "source": [
    "f_M_given_A = np.array([0.95,0.25])\n",
    "f_J_given_A = np.array([0.75,0.15])\n",
    "f_A_given_E_B = np.array([0.01,0.92,0.97,0.99])\n",
    "f_E = 0.03\n",
    "f_B = 0.05"
   ]
  },
  {
   "cell_type": "markdown",
   "metadata": {},
   "source": [
    "Using this information we can find the probability of a specific outcome easily: <br>"
   ]
  },
  {
   "cell_type": "code",
   "execution_count": 9,
   "metadata": {},
   "outputs": [
    {
     "name": "stdout",
     "output_type": "stream",
     "text": [
      "0.0031100624999999995\n"
     ]
    }
   ],
   "source": [
    "def get_joint_earthquake_burglar_example(E,B,A,J,M):\n",
    "    prob_E = f_E if E==1 else 1-f_E\n",
    "    prob_B = f_B if B==1 else 1-f_B\n",
    "    prob_A_is_1 = f_A_given_E_B[E*2+B]\n",
    "    prob_A = prob_A_is_1 if A==1 else 1-prob_A_is_1\n",
    "    prob_J = f_J_given_A[A] if J==1 else 1-f_J_given_A[A]\n",
    "    prob_M = f_M_given_A[A] if M==1 else 1-f_M_given_A[A]\n",
    "    joint = prob_E*prob_B*prob_A*prob_J*prob_M\n",
    "    return joint\n",
    "\n",
    "print(get_joint_earthquake_burglar_example(1,0,1,1,0)) #Earthquake, Alarm, Jane calls"
   ]
  },
  {
   "cell_type": "code",
   "execution_count": 10,
   "metadata": {},
   "outputs": [],
   "source": [
    "# check all the joint probabilities sum to 1.\n",
    "total = 0\n",
    "for E in range(2):\n",
    "    for B in range(2):\n",
    "        for A in range(2):\n",
    "            for J in range(2):\n",
    "                for M in range(2):\n",
    "                    total+=get_joint_earthquake_burglar_example(E,B,A,J,M)\n",
    "assert(np.isclose(total,1))"
   ]
  },
  {
   "cell_type": "markdown",
   "metadata": {},
   "source": [
    "When doing inference you condition the variables you don't know on the variables you do know. Say we want to know the probability of an earthquake given Jane and Mary called. Then we want to know: <br>\n",
    "$p(E^1|J^1,M^1) = p(E^1,J^1,M^1)\\div p(J^1,M^1)$ <br>\n",
    "The joint distributions in the numerator and denominator can be found by conditioning on the variables you know and marginalizing out the variables you don't know: <br>\n",
    "$p(E^1,J^1,M^1) = \\sum_B\\sum_A p(E^1,B,A,J^1,M^1)$ <br>\n",
    "$p(J^1,M^1) = \\sum_E\\sum_B\\sum_A p(E,B,A,J^1,M^1)$ <br>"
   ]
  },
  {
   "cell_type": "code",
   "execution_count": 11,
   "metadata": {},
   "outputs": [
    {
     "name": "stdout",
     "output_type": "stream",
     "text": [
      "0.002608154739090277 prob Earthquake given Jane called\n"
     ]
    }
   ],
   "source": [
    "numerator = 0\n",
    "for B in range(2):\n",
    "    for A in range(2):\n",
    "        numerator+=get_joint_earthquake_burglar_example(1,B,A,1,1)\n",
    "        \n",
    "denominator = 0\n",
    "for E in range(2):\n",
    "    for B in range(2):\n",
    "        for A in range(2):\n",
    "            denominator+=get_joint_earthquake_burglar_example(E,B,A,1,1)\n",
    "            \n",
    "conditional_prob_of_E = numerator/denominator\n",
    "print(conditional_prob_of_E, \"prob Earthquake given Jane called\")"
   ]
  },
  {
   "cell_type": "markdown",
   "metadata": {},
   "source": [
    "So, to do inference we condition on the variables we know and marginalize those we do not know. On a directed pgm this is simple, as shown above. On undirected pgms the same can be done, but requires thinking about factors instead. The next notebook will cover the same example with factors. "
   ]
  }
 ],
 "metadata": {
  "kernelspec": {
   "display_name": "Python 3",
   "language": "python",
   "name": "python3"
  },
  "language_info": {
   "codemirror_mode": {
    "name": "ipython",
    "version": 3
   },
   "file_extension": ".py",
   "mimetype": "text/x-python",
   "name": "python",
   "nbconvert_exporter": "python",
   "pygments_lexer": "ipython3",
   "version": "3.7.7"
  }
 },
 "nbformat": 4,
 "nbformat_minor": 4
}
