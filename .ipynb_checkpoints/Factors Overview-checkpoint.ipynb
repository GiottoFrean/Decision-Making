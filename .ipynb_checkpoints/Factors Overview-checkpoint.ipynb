{
 "cells": [
  {
   "cell_type": "code",
   "execution_count": 1,
   "metadata": {},
   "outputs": [],
   "source": [
    "import numpy as np"
   ]
  },
  {
   "cell_type": "markdown",
   "metadata": {},
   "source": [
    "### Factors: What are they?\n",
    "Earlier the conditional probability tables (e.g $p(A|B,C)$) were refered to as factors.  But factors are actually a much more general way of defining a distribution, so need a proper introduction: <br>\n",
    "To start from the very most basic formulation, factors are a way of writing a probability down as the multiplication of functions of the variables. By their nature they constrain what the probability function can be. For instance, say I have 3 binary variables $A$,$B$,$C$. Say I also define two functions: $\\phi_1(A,B)$,$\\phi_2(B,C)$ which we call factors. Then we can describe a probability function with these, say: <br>\n",
    "$$p(A,B,C) = \\frac{1}{Z} \\phi_1(A,B)\\phi_2(B,C)$$ <br>\n",
    "Where $Z$ is a constant so the joint probability sums to 1. By definition, $Z=\\sum_A \\sum_B \\sum_C \\phi_1(A,B)\\phi_2(B,C)$ <br>\n",
    "Here the multiplication is called factor multiplication, but behaves just like normal multiplication. <br>\n",
    "**An example with the above: (note, factors can be any function)** <br>\n",
    "$\\phi_1(0,0)=2$ <br>\n",
    "$\\phi_1(0,1)=0$ <br>\n",
    "$\\phi_1(1,0)=1$ <br>\n",
    "$\\phi_1(1,1)=1$ <br>\n",
    "\n",
    "$\\phi_2(0,0)=0$ <br>\n",
    "$\\phi_2(0,1)=1$ <br>\n",
    "$\\phi_2(1,0)=2$ <br>\n",
    "$\\phi_2(1,1)=1$ <br>\n",
    "\n",
    "Then we can calculate $Z$:"
   ]
  },
  {
   "cell_type": "code",
   "execution_count": 2,
   "metadata": {},
   "outputs": [
    {
     "name": "stdout",
     "output_type": "stream",
     "text": [
      "6\n"
     ]
    }
   ],
   "source": [
    "def phi_1(A,B):\n",
    "    if(A==0 and B==0): return 2\n",
    "    if(A==0 and B==1): return 0\n",
    "    if(A==1 and B==0): return 1\n",
    "    if(A==1 and B==1): return 1\n",
    "    \n",
    "def phi_2(B,C):\n",
    "    if(B==0 and C==0): return 0\n",
    "    if(B==0 and C==1): return 1\n",
    "    if(B==1 and C==0): return 2\n",
    "    if(B==1 and C==1): return 1\n",
    "\n",
    "total = 0\n",
    "for A in [0,1]:\n",
    "    for B in [0,1]:\n",
    "        for C in [0,1]:\n",
    "            total+=phi_1(A,B)*phi_2(B,C)\n",
    "            \n",
    "print(total)"
   ]
  },
  {
   "cell_type": "markdown",
   "metadata": {},
   "source": [
    "Therefore the normalization of $p(A,B,C)$ is $\\frac{1}{6}$. <br>\n",
    "We can also calculate this by conviniently moving the sums into the formula:<br>\n",
    "$Z=\\sum_A \\sum_B \\sum_C \\phi_1(A,B)\\phi_2(B,C)$ <br>\n",
    "$Z=\\sum_A \\sum_B \\phi_1(A,B) \\sum_C \\phi_2(B,C)$ <br>\n",
    "\n",
    "$\\sum_C \\phi_2(0,C) = 1$ <br>\n",
    "$\\sum_C \\phi_2(1,C) = 3$<br>\n",
    "\n",
    "$\\phi_1(0,0) \\times 1 = 2\\times 1 = 2$<br>\n",
    "$\\phi_1(0,1) \\times 3 = 0\\times 3 = 0$<br>\n",
    "$\\phi_1(1,0) \\times 1 = 1\\times 1 = 1$<br>\n",
    "$\\phi_1(1,1) \\times 3 = 1\\times 3 = 3$<br>\n",
    "\n",
    "$ \\sum_A \\sum_B \\sum_C \\phi_1(A,B)\\phi_2(B,C) = 2+0+1+3 = 6 $"
   ]
  },
  {
   "cell_type": "markdown",
   "metadata": {},
   "source": [
    "So, probability functions can be defined by factors. You often have to calculate the normalization $Z$ though, which can be intractable.  <br>\n",
    "We can write any probability as a function of factors, and this then conveys conditional information. For instance, in the above case: \n",
    "$$p(A,B,C) = \\frac{1}{6} \\phi_1(A,B)\\phi_2(B,C)$$ <br>\n",
    "If we know $B$ then the probability of $A$ and $C$ are independent:\n",
    "$$p(A,B=0,C) = \\frac{1}{6} \\phi_1(A,0)\\phi_2(0,C)$$ <br>\n",
    "If we rewrite $\\tau_1(A) = \\phi_1(A,0)$, and\n",
    "if we rewrite $\\tau_2(C) = \\phi_2(0,C)$, then:\n",
    "$$p(A,B=0,C) = \\frac{1}{6} \\tau_1(A)\\tau_2(C)$$ <br>\n",
    "Thus the above factor description of a probability distribution conveys conditional independence between $A$ and $C$ given $B$. In that sense it is the graph: $A-B-C$ <br>\n",
    "There are some nice proofs putting this all in a logical format, but I exclude them here.-"
   ]
  },
  {
   "cell_type": "markdown",
   "metadata": {},
   "source": [
    "### 3 operations\n",
    "There are 3 operations which can be done on factors: \n",
    "1. Factor multiplication. Defined: $\\phi_1(A,B)\\cdot \\phi_2(B,C)=(\\phi_1\\cdot \\phi_2)(A,B,C)=\\phi_1(A,B)\\phi_2(B,C)$. As shown above, using this is just like normal multiplication and acts as a limit on the possible functions which can decribe $p(A,B,C)$. That limit is that a function which has $A$ and $C$ dependent even given $B$ cannot be written with the above formulation. \n",
    "2. Marginalization. This just means summing out the values for one particular variable. E.g, you want to know p(A) but only see $p(C)$ not $p(B)$. Then you sum out $B$: $p(A)=\\sum_B p(A,B)$.\n",
    "3. Conditioning. This refers to the process of taking a factor and reducing it using \"seen\" values. I.e $\\phi_1(A,B)$ becomes some $\\tau_1(A)$ when $B$ is known. Conditioning is to return a function where certain values in the function are set in place. E.g $f(x,y) = x^2 + y^2$ becomes $f(x) = x^2 + 4$ when $y=2$."
   ]
  },
  {
   "cell_type": "markdown",
   "metadata": {},
   "source": [
    "Factors are a very powerful way of describing a probability distribution. We can change any expanded probability distribution into a factor multiplication easily, e.g: <br>\n",
    "*normal expansion:*\n",
    "$$p(A,B,C)=p(C|A,B)p(B|A)p(A)$$\n",
    "*conditional assumptions:*\n",
    "$$p(A,B,C)=p(C|A)p(B)p(A)$$\n",
    "*Factor representation which accounts for the same conditions:*\n",
    "$$p(A,B,C)=\\frac{1}{Z} \\phi_1(C,A)\\phi_2(B)\\phi_3(A)$$\n",
    "\n",
    "*In the case that $\\phi_1(C,A) = p(C|A)$, and $\\phi_2(B)$, $\\phi_3(A)$ sum to 1*:\n",
    "$$p(A,B,C)=\\phi_1(C,A)\\phi_2(B)\\phi_3(A)$$\n",
    "\n",
    "This is why factors in a conditional diagram are simply the conditional probabilities. There is no need to calculate $Z$, as it equals 1. For a proof, see pushing the sum into the formula."
   ]
  },
  {
   "cell_type": "markdown",
   "metadata": {},
   "source": [
    "So: <br>\n",
    "Factors can be anything. They are a way of describing a probability that can make calculation easier. However, finding the normalization $Z$ can be difficult if there is a large number of variables involved. Luckily, if the factors are the conditional distribution functions (sum over all variables not being conditioned on gives 1), $Z$ is normalized by default. <br>"
   ]
  }
 ],
 "metadata": {
  "kernelspec": {
   "display_name": "Python 3",
   "language": "python",
   "name": "python3"
  },
  "language_info": {
   "codemirror_mode": {
    "name": "ipython",
    "version": 3
   },
   "file_extension": ".py",
   "mimetype": "text/x-python",
   "name": "python",
   "nbconvert_exporter": "python",
   "pygments_lexer": "ipython3",
   "version": "3.7.7"
  }
 },
 "nbformat": 4,
 "nbformat_minor": 4
}
