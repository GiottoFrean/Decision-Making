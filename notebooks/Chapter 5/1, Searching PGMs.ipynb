{
 "cells": [
  {
   "cell_type": "code",
   "execution_count": 1,
   "id": "05a8de1d",
   "metadata": {},
   "outputs": [],
   "source": [
    "%load_ext autoreload\n",
    "%autoreload 2\n",
    "import sys\n",
    "sys.path.insert(0,'../../modules')"
   ]
  },
  {
   "cell_type": "code",
   "execution_count": 2,
   "id": "85d43924",
   "metadata": {},
   "outputs": [],
   "source": [
    "import numpy as np\n",
    "import common_plots\n",
    "import plotly.graph_objects as go\n",
    "import factors\n",
    "import factors_sampling\n",
    "import factors_inference"
   ]
  },
  {
   "cell_type": "markdown",
   "id": "11d61edc",
   "metadata": {},
   "source": [
    "# Searching for PGM structure\n",
    "Usually there is uncertainty in problems about which variable is conditionally independent of which other variables, so it might be necessary to search the space of possible graphs to do this. One could use the likelihood of the data under the model to decide which graph is good but this can lead to overfitting. Searching can be done with any number of algorithms. <br>\n",
    "**Simple Example, Testing a few different Graphs:**"
   ]
  },
  {
   "cell_type": "code",
   "execution_count": 155,
   "id": "a532bcc0",
   "metadata": {},
   "outputs": [],
   "source": [
    "# truth\n",
    "factorA = factors.Factor([\"A\"],[2])\n",
    "factorB = factors.Factor([\"B\"],[3])\n",
    "factorC_givenAB = factors.Factor([\"C\",\"A\",\"B\"],[2,2,3])\n",
    "factorA.set_all([0.5,0.5])\n",
    "factorB.set_all([[0.5,0.2,0.3]])\n",
    "factorC_givenAB.set_all([[0.2,0.1,0.3,0.5,0.4,0.9,0.8,0.9,0.7,0.5,0.6,0.1]])\n",
    "true_factors = [factorA,factorB,factorC_givenAB]"
   ]
  },
  {
   "cell_type": "code",
   "execution_count": 156,
   "id": "31a572e5",
   "metadata": {},
   "outputs": [],
   "source": [
    "samples = []\n",
    "for s in range(1000):\n",
    "    sample_variable_names,sample = factors_sampling.joint_sample_top_down(true_factors)\n",
    "    samples.append(sample)\n",
    "samples = np.array(samples)\n",
    "samples[np.random.rand(*samples.shape)<0.7]=-1"
   ]
  },
  {
   "cell_type": "code",
   "execution_count": 185,
   "id": "c2e6767e",
   "metadata": {},
   "outputs": [],
   "source": [
    "# Variables e.g [\"A\",\"B\",\"C\"]\n",
    "# Parents e.g [[],[],[\"A\",\"B\"]]\n",
    "# would be A -> C <- B\n",
    "def make_directed_pgm(variable_names,possible_values,parent_names):\n",
    "    all_factors = []\n",
    "    for j in range(len(variable_names)):\n",
    "        names_j = [name for name in list(variable_names[j])+parent_names[j]]\n",
    "        pos_values_j = [possible_values[variable_names.index(name)] for name in names_j]\n",
    "        f = factors.Factor(names_j,pos_values_j)\n",
    "        all_factors.append(f)\n",
    "    return all_factors\n",
    "\n",
    "def randomize_prior(prior_factors):\n",
    "    for j in range(len(prior_factors)):\n",
    "        prior_factors[j].array = np.random.rand(*prior_factors[j].array.shape)\n",
    "        prior_factors[j] = factors.condition(prior_factors[j],prior_factors[j].names[1:])\n",
    "    return prior_factors"
   ]
  },
  {
   "cell_type": "markdown",
   "id": "4ff41bc3",
   "metadata": {},
   "source": [
    "For $A \\rightarrow C \\leftarrow B$"
   ]
  },
  {
   "cell_type": "code",
   "execution_count": 193,
   "id": "733f2c88",
   "metadata": {},
   "outputs": [
    {
     "name": "stdout",
     "output_type": "stream",
     "text": [
      "log likelihood -146.05920645506487\n",
      "log likelihood -109.69558273153234\n",
      "log likelihood -92.44868181956065\n",
      "log likelihood -82.92538031797052\n",
      "log likelihood -76.9864810118957\n"
     ]
    }
   ],
   "source": [
    "prior_factors = randomize_prior(make_directed_pgm([\"A\",\"B\",\"C\"],[2,3,2],[[],[],[\"A\",\"B\"]]))\n",
    "new_factors = factors_inference.learn_directed_PGM_EM(prior_factors,sample_variable_names,samples,5)"
   ]
  },
  {
   "cell_type": "markdown",
   "id": "c490ff68",
   "metadata": {},
   "source": [
    "For $A \\rightarrow B \\leftarrow C$"
   ]
  },
  {
   "cell_type": "code",
   "execution_count": 194,
   "id": "d32f63a0",
   "metadata": {},
   "outputs": [
    {
     "name": "stdout",
     "output_type": "stream",
     "text": [
      "log likelihood -277.6260437599606\n",
      "log likelihood -238.47026748374145\n",
      "log likelihood -220.39124845511552\n",
      "log likelihood -211.5794463280546\n",
      "log likelihood -207.11992946319242\n"
     ]
    }
   ],
   "source": [
    "prior_factors = randomize_prior(make_directed_pgm([\"A\",\"B\",\"C\"],[2,3,2],[[],[\"A\",\"C\"],[]]))\n",
    "new_factors = factors_inference.learn_directed_PGM_EM(prior_factors,sample_variable_names,samples,5)"
   ]
  },
  {
   "cell_type": "markdown",
   "id": "e4e504cb",
   "metadata": {},
   "source": [
    "For $C \\rightarrow A \\leftarrow B$"
   ]
  },
  {
   "cell_type": "code",
   "execution_count": 195,
   "id": "e6c1246b",
   "metadata": {},
   "outputs": [
    {
     "name": "stdout",
     "output_type": "stream",
     "text": [
      "log likelihood -300.45722890797396\n",
      "log likelihood -157.37013235737047\n",
      "log likelihood -111.10023188695229\n",
      "log likelihood -91.02092546655243\n",
      "log likelihood -81.28447237198691\n"
     ]
    }
   ],
   "source": [
    "prior_factors = randomize_prior(make_directed_pgm([\"A\",\"B\",\"C\"],[2,3,2],[[\"B\",\"C\"],[],[]]))\n",
    "new_factors = factors_inference.learn_directed_PGM_EM(prior_factors,sample_variable_names,samples,5)"
   ]
  },
  {
   "cell_type": "markdown",
   "id": "ac14653e",
   "metadata": {},
   "source": [
    "Almost all the time the true graph comes out with the greatest likelihood, though the randomness can affect it."
   ]
  },
  {
   "cell_type": "markdown",
   "id": "fde949a3",
   "metadata": {},
   "source": [
    "### Equivalence between PGMs\n",
    "There are many different ways to expand a probability with the product rule, which means many different graphs encode the same information. For instance, one expansion of $P(A,B,C)$:\n",
    "$$P(A,B,C)=P(A|B,C)P(B|C)P(C)$$\n",
    "And another:\n",
    "$$P(A,B,C)=P(B|A,C)P(C|A)P(A)$$"
   ]
  }
 ],
 "metadata": {
  "kernelspec": {
   "display_name": "Python 3",
   "language": "python",
   "name": "python3"
  },
  "language_info": {
   "codemirror_mode": {
    "name": "ipython",
    "version": 3
   },
   "file_extension": ".py",
   "mimetype": "text/x-python",
   "name": "python",
   "nbconvert_exporter": "python",
   "pygments_lexer": "ipython3",
   "version": "3.9.4"
  }
 },
 "nbformat": 4,
 "nbformat_minor": 5
}
