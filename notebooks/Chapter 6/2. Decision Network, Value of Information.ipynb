{
 "cells": [
  {
   "cell_type": "code",
   "execution_count": 1,
   "id": "9b07be65",
   "metadata": {},
   "outputs": [],
   "source": [
    "%load_ext autoreload\n",
    "%autoreload 2\n",
    "import sys\n",
    "sys.path.insert(0,'../../modules')"
   ]
  },
  {
   "cell_type": "code",
   "execution_count": 2,
   "id": "99c635be",
   "metadata": {},
   "outputs": [],
   "source": [
    "import numpy as np\n",
    "import factors\n",
    "from factors_inference import sum_product_variable_elimination"
   ]
  },
  {
   "cell_type": "markdown",
   "id": "94421ca9",
   "metadata": {},
   "source": [
    "# Decision Networks\n",
    "We can implement the idea of utility using a directed PGM. The decision nodes are treated the same as any other variable, but we set the probability to 1 for whatever decision we are making. Then we get a set of infered values for each node using an inference algorithm. Then a utility function is used with each set of values to get an expecation. An example is given below, where you want to know whether you should take the bus, given it might rain and you could be late to work. "
   ]
  },
  {
   "cell_type": "code",
   "execution_count": 3,
   "id": "13912e06",
   "metadata": {},
   "outputs": [],
   "source": [
    "rain_factor = factors.Factor([\"it will rain\"],[2])\n",
    "bus_factor = factors.Factor([\"bus is early\"],[2])\n",
    "decision = factors.Factor([\"try to catch the bus\"],[2])\n",
    "catch_bus = factors.Factor([\"caught bus\",\"bus is early\",\"try to catch the bus\"],[2,2,2])\n",
    "arrive_dry = factors.Factor([\"dry\",\"it will rain\",\"caught bus\"],[2,2,2])\n",
    "arrive_late = factors.Factor([\"late\",\"caught bus\",\"try to catch the bus\"],[2,2,2])\n",
    "rain_factor.set_all([0.7,0.3]) # 30% chance of rain\n",
    "bus_factor.set_all([0.85,0.15]) # 15% chance bus is early\n",
    "catch_bus.set_all([1.0,0.1,1.0,0.6,0.0,0.9,0.0,0.4]) # 90% if the bus is on time 40% if not. \n",
    "arrive_dry.set_all([0,0,0.95,0,1,1,0.05,1])\n",
    "f = -1 # need something other than nan for values which cannot be true. Doesn't matter what this variable is.\n",
    "arrive_late.set_all([0.95,0.1,f,0.95,0.05,0.9,f,0.05])\n",
    "utility_factor = factors.Factor([\"dry\",\"late\"],[2,2])\n",
    "utility_factor.set_all([-2,-7,0,-5])\n",
    "utility_relevant_nodes = [arrive_dry,arrive_late]\n",
    "non_utility_relevent_factors = [rain_factor,bus_factor,catch_bus]"
   ]
  },
  {
   "cell_type": "code",
   "execution_count": 4,
   "id": "b32b6031",
   "metadata": {},
   "outputs": [],
   "source": [
    "def run_decision_network(decision_node,utility_nodes,utility_factor,other_nodes,evidence_vars=[],evidence_vals=[]):\n",
    "    max_utility = -np.inf\n",
    "    best_decision = -1\n",
    "    print(\"decision\",decision_node.names)\n",
    "    print(\"evidence\",dict(zip(evidence_vars,evidence_vals)))\n",
    "    for option in decision_node.indexes:\n",
    "        decision_node.array = np.zeros(decision_node.array.shape)\n",
    "        decision_node.set(option,1)\n",
    "        var_names_to_marginalize = [node.names[0] for node in [decision_node]+other_nodes]\n",
    "        all_factors = [decision_node]+utility_nodes+other_nodes\n",
    "        probs = sum_product_variable_elimination(all_factors,evidence_vars,evidence_vals,var_names_to_marginalize)\n",
    "        total_utility = np.sum(factors.product(probs,utility_factor).array)\n",
    "        print(\"choice\",option,\"UTILITY:\",total_utility.round(5))\n",
    "        if(total_utility>max_utility):\n",
    "            max_utility = total_utility\n",
    "            best_decision = option\n",
    "    return best_decision,max_utility"
   ]
  },
  {
   "cell_type": "markdown",
   "id": "7b547c93",
   "metadata": {},
   "source": [
    "This algorithm is actually very simple: <br> \n",
    "1. Iterate through each decision and infer the joint distribution over hidden variables (given evidence)\n",
    "2. Multiply the utility of each possible outcome by its probability, and sum the result to get the expectation\n",
    "3. Make the decision corresponding to the maximum expected utility.\n",
    "**Seeing it will not rain:** (definitely shouldn't try and catch the bus)"
   ]
  },
  {
   "cell_type": "code",
   "execution_count": 5,
   "id": "116d4496",
   "metadata": {},
   "outputs": [
    {
     "name": "stdout",
     "output_type": "stream",
     "text": [
      "decision ['try to catch the bus']\n",
      "evidence {'it will rain': 0}\n",
      "choice [0] UTILITY: -0.25\n",
      "choice [1] UTILITY: -0.99375\n",
      "best decision [0]\n"
     ]
    }
   ],
   "source": [
    "best_decision,max_utility = run_decision_network(decision,\n",
    "                             utility_relevant_nodes,\n",
    "                             utility_factor,\n",
    "                             non_utility_relevent_factors,\n",
    "                             evidence_vars=[\"it will rain\"],\n",
    "                             evidence_vals=[0])\n",
    "print(\"best decision\",best_decision)"
   ]
  },
  {
   "cell_type": "markdown",
   "id": "e3942745",
   "metadata": {},
   "source": [
    "**Seeing it will rain:** (almost certainly better ot catch the bus and avoid being wet)"
   ]
  },
  {
   "cell_type": "code",
   "execution_count": 8,
   "id": "5ee5fb1b",
   "metadata": {},
   "outputs": [
    {
     "name": "stdout",
     "output_type": "stream",
     "text": [
      "decision ['try to catch the bus']\n",
      "evidence {'it will rain': 1}\n",
      "choice [0] UTILITY: -2.15\n",
      "choice [1] UTILITY: -1.32625\n",
      "best decision [1]\n"
     ]
    }
   ],
   "source": [
    "best_decision,max_utility = run_decision_network(decision,\n",
    "                             utility_relevant_nodes,\n",
    "                             utility_factor,\n",
    "                             non_utility_relevent_factors,\n",
    "                             evidence_vars=[\"it will rain\"],\n",
    "                             evidence_vals=[1])\n",
    "print(\"best decision\",best_decision)"
   ]
  },
  {
   "cell_type": "markdown",
   "id": "3d2cd2cb",
   "metadata": {},
   "source": [
    "**Not knowing the weather:**"
   ]
  },
  {
   "cell_type": "code",
   "execution_count": 9,
   "id": "ed819558",
   "metadata": {},
   "outputs": [
    {
     "name": "stdout",
     "output_type": "stream",
     "text": [
      "decision ['try to catch the bus']\n",
      "evidence {}\n",
      "choice [0] UTILITY: -0.82\n",
      "choice [1] UTILITY: -1.0935\n",
      "best decision [0]\n"
     ]
    }
   ],
   "source": [
    "best_decision,max_utility = run_decision_network(decision,\n",
    "                             utility_relevant_nodes,\n",
    "                             utility_factor,\n",
    "                             non_utility_relevent_factors)\n",
    "print(\"best decision\",best_decision)"
   ]
  },
  {
   "cell_type": "markdown",
   "id": "14be0d1b",
   "metadata": {},
   "source": [
    "Often decision diagrams are drawn with the random variables as circles the decisions as squares and the utility as its own node, a diamond."
   ]
  },
  {
   "cell_type": "markdown",
   "id": "cde1bf81",
   "metadata": {},
   "source": [
    "# Value of information\n",
    "A very important question to ask is whether it is worth getting a piece of information in order to make a decision. Say, in the above example, checking the weather report. What is the value of that information? In answering this we assume a rational actor which will make the best decision given the information available to them. So, in the above case when I don't know anything my best decision is to not take the bus, with a maximum expected utility of $-0.82$. Alternatively if I know it will not rain my maximum expected utility is $-0.25$ and if I know it will it is $-1.32625$. Obviously, the probability of the observation also matters. To get the expected utility knowing information we multiply the maximum utility for each observation by the probability of the observation and sum them up. So in the above case, when the chance of rain is $30\\%$: <br>\n",
    "$$-1.32625 \\times 0.3 + -0.25 \\times 0.7 = -0.572875$$\n",
    "So, the expected utility if I can know the information is $-0.572875$ <br>\n",
    "The value of information is simply the difference between this value and the maximum expected utility knowing nothing. $-0.572875-(-0.82)=0.241725$ <br>\n",
    "So, with the information I can expect my final utility to go up by $0.241725$."
   ]
  }
 ],
 "metadata": {
  "kernelspec": {
   "display_name": "Python 3",
   "language": "python",
   "name": "python3"
  },
  "language_info": {
   "codemirror_mode": {
    "name": "ipython",
    "version": 3
   },
   "file_extension": ".py",
   "mimetype": "text/x-python",
   "name": "python",
   "nbconvert_exporter": "python",
   "pygments_lexer": "ipython3",
   "version": "3.9.4"
  }
 },
 "nbformat": 4,
 "nbformat_minor": 5
}
