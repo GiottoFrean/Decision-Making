{
 "cells": [
  {
   "cell_type": "code",
   "execution_count": 1,
   "id": "e1e49d0f",
   "metadata": {},
   "outputs": [],
   "source": [
    "%load_ext autoreload\n",
    "%autoreload 2\n",
    "import sys\n",
    "sys.path.insert(0,'../../modules')"
   ]
  },
  {
   "cell_type": "code",
   "execution_count": 2,
   "id": "fb09581f",
   "metadata": {},
   "outputs": [],
   "source": [
    "import numpy as np"
   ]
  },
  {
   "cell_type": "markdown",
   "id": "3f3c4b24",
   "metadata": {},
   "source": [
    "# Utility from first principals\n",
    "Consider a set of outcomes. We have a preference over each outcome, along with a probability of that outcome given our actions. We write $A>B$ if we prefer $A$ over $B$ and $A\\sim B$ if we don't care. The probabilities are written with $p$ as usual. \n",
    "### Imposing constraints on preferences\n",
    "We assume as axioms the following hold: <br>\n",
    "If $A > B$ or $B > A$ or $A \\sim C$ (completeness) <br>\n",
    "If $A\\geq B$ and $B\\geq C$ then $A\\geq C$ (transitivity) <br>\n",
    "If $A\\geq C\\geq B$ then there is a probability $p$ such that when the probability of $A$ is $p$ and $B$ is $1-p$ then the preference for both $A$ and $B$ is equal to $C$. (continuity) <br>\n",
    "If $A\\geq B$ then for any $C$ and probability $p$ the preference for both $A$ and $C$ as outcomes is greater than the preference for $B$ and $C$ where the probability of $B$ and $A$ is $p$ and the probability of $C$ is $1-p$. (independence) <br> <br>\n",
    "From these axioms it follows there is a utility function $U$ for which $U(A) > U(B)$ if and only if $A > B$ and $U(A) = U(B)$ if and only if $A \\sim B$ <br> <br>\n",
    "The axioms imply that the utility of a set of outcomes is given by the expectation over the utility, $\\sum_i p_i U(S_i)$ where $S$ are the outcomes."
   ]
  },
  {
   "cell_type": "markdown",
   "id": "6fd9cd48",
   "metadata": {},
   "source": [
    "We can compare different actions by comparing the final utility over all possible outcomes. For instance, suppose you have two coins in a game. Coin 1 ($C1$) is fair while Coin 2 ($C2$) has only a $25\\%$ chance of heads. Say for the first coin you get $\\$10$ if its heads and $\\$5$ if it is false, while for coin 2 you get $\\$14$ if heads, $6$ otherwise. You can choose which coin to flip, which one? <br>\n",
    "If we say utility is equal to dollars, then the utility for the first coin is $0.5\\times 10 + 0.5\\times 5 = 7.5$. For the second coin the utility is $0.25 \\times 14 + 0.75 \\times 6 = 8$. Therefore the second coin is the best. "
   ]
  },
  {
   "cell_type": "code",
   "execution_count": 20,
   "id": "aa4a7b9e",
   "metadata": {},
   "outputs": [
    {
     "name": "stdout",
     "output_type": "stream",
     "text": [
      "7.51 coin 1 estimated utility\n",
      "7.912 coin 2 estimated utility\n"
     ]
    }
   ],
   "source": [
    "coin1_samples = np.random.choice([0,1],1000,p=[0.5,0.5])\n",
    "c1_ut = (10*np.sum(coin1_samples==0)+5*np.sum(coin1_samples==1))/1000\n",
    "print(c1_ut,\"coin 1 estimated utility\")\n",
    "coin2_samples = np.random.choice([0,1],1000,p=[0.25,0.75])\n",
    "c2_ut = (14*np.sum(coin2_samples==0)+6*np.sum(coin2_samples==1))/1000\n",
    "print(c2_ut,\"coin 2 estimated utility\")"
   ]
  },
  {
   "cell_type": "markdown",
   "id": "cb202d3c",
   "metadata": {},
   "source": [
    "In the above case we could use the expected dollars as a utility, but this isn't always the case. There are different appraoches to risk. <br>\n",
    "**Risk Neutral** behaviour is used above in the coin case. The return is all that matters. A $50\\%$ chance of getting $\\$100$ and a $100\\%$ chance of getting $\\$50$ are the same. <br>\n",
    "**Risk Seeking** utility has a preference for higher returns. So, the first option above is picked. <br>\n",
    "**Risk Averse** behaviour prefers the second option, $100\\%$ chance of getting $\\$50$. <br>\n",
    "In general we are interested in maximizing the expected utility of an action. Say we have actions $a$, states $s$ and observations $o$. The expected utility is:\n",
    "$$EU(a|o)=\\sum_{s'}p(s'|a,o)U(s')$$\n",
    "The best action is the $a$ which maximizes this function."
   ]
  }
 ],
 "metadata": {
  "kernelspec": {
   "display_name": "Python 3",
   "language": "python",
   "name": "python3"
  },
  "language_info": {
   "codemirror_mode": {
    "name": "ipython",
    "version": 3
   },
   "file_extension": ".py",
   "mimetype": "text/x-python",
   "name": "python",
   "nbconvert_exporter": "python",
   "pygments_lexer": "ipython3",
   "version": "3.9.4"
  }
 },
 "nbformat": 4,
 "nbformat_minor": 5
}
