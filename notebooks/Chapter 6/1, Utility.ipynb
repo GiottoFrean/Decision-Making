{
 "cells": [
  {
   "cell_type": "code",
   "execution_count": 1,
   "id": "fb09581f",
   "metadata": {},
   "outputs": [],
   "source": [
    "%load_ext autoreload\n",
    "%autoreload 2\n",
    "import sys\n",
    "sys.path.insert(0,'../../modules')"
   ]
  },
  {
   "cell_type": "markdown",
   "id": "3f3c4b24",
   "metadata": {},
   "source": [
    "# Utility from first principals\n",
    "Consider a set of outcomes. We have a preference over each outcome, along with a probability of that outcome given our actions. We write $A>B$ if we prefer $A$ over $B$ and $A\\sim B$ if we don't care. The probabilities are written with $p$ as usual. \n",
    "### Imposing constraints on preferences\n",
    "We assume as axioms the following hold: <br>\n",
    "If $A > B$ or $B > A$ or $A \\sim C$ (completeness) <br>\n",
    "If $A\\geq B$ and $B\\geq C$ then $A\\geq C$ (transitivity) <br>\n",
    "If $A\\geq C\\geq B$ then there is a probability $p$ such that when the probability of $A$ is $p$ and $B$ is $1-p$ then the preference for both $A$ and $B$ is equal to $C$. (continuity) <br>\n",
    "If $A\\geq B$ then for any $C$ and probability $p$ the preference for both $A$ and $C$ as outcomes is greater than the preference for $B$ and $C$ where the probability of $B$ and $A$ is $p$ and the probability of $C$ is $1-p$. (independence) <br> <br>\n",
    "From these axioms it follows there is a utility function $U$ for which $U(A) > U(B)$ if and only if $A > B$ and $U(A) = U(B)$ if and only if $A \\sim B$ <br> <br>\n",
    "The axioms imply that the utility of a set of outcomes is given by the expectation over the utility, $\\sum_i p_i U(S_i)$ where $S$ are the outcomes."
   ]
  },
  {
   "cell_type": "markdown",
   "id": "6fd9cd48",
   "metadata": {},
   "source": [
    "We can compare different actions by comparing the final utility over all possible outcomes. For instance: <br>"
   ]
  },
  {
   "cell_type": "code",
   "execution_count": null,
   "id": "bec0812e",
   "metadata": {},
   "outputs": [],
   "source": []
  }
 ],
 "metadata": {
  "kernelspec": {
   "display_name": "Python 3",
   "language": "python",
   "name": "python3"
  },
  "language_info": {
   "codemirror_mode": {
    "name": "ipython",
    "version": 3
   },
   "file_extension": ".py",
   "mimetype": "text/x-python",
   "name": "python",
   "nbconvert_exporter": "python",
   "pygments_lexer": "ipython3",
   "version": "3.9.4"
  }
 },
 "nbformat": 4,
 "nbformat_minor": 5
}
