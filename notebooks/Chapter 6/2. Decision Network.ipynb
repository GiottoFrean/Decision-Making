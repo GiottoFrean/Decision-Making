{
 "cells": [
  {
   "cell_type": "code",
   "execution_count": 1,
   "id": "9b07be65",
   "metadata": {},
   "outputs": [],
   "source": [
    "%load_ext autoreload\n",
    "%autoreload 2\n",
    "import sys\n",
    "sys.path.insert(0,'../../modules')"
   ]
  },
  {
   "cell_type": "code",
   "execution_count": 2,
   "id": "99c635be",
   "metadata": {},
   "outputs": [],
   "source": [
    "import numpy as np\n",
    "import factors"
   ]
  },
  {
   "cell_type": "code",
   "execution_count": 42,
   "id": "13912e06",
   "metadata": {},
   "outputs": [],
   "source": [
    "rain_factor = factors.Factor([\"it will rain\"],[2])\n",
    "bus_factor = factors.Factor([\"bus is early\"],[2])\n",
    "decision = factors.Factor([\"try to catch the bus\"],[2])\n",
    "catch_bus = factors.Factor([\"caught bus\",\"bus is early\",\"try to catch the bus\"],[2,2,2])\n",
    "arrive_dry = factors.Factor([\"dry\",\"it will rain\",\"caught bus\"],[2,2,2])\n",
    "arrive_late = factors.Factor([\"late\",\"caught bus\",\"try to catch the bus\"],[2,2,2])\n",
    "rain_factor.set_all([0.7,0.3]) # 30% chance of rain\n",
    "bus_factor.set_all([0.85,0.15]) # 15% chance bus is early\n",
    "catch_bus.set_all([1.0,0.1,1.0,0.6,0.0,0.9,0.0,0.4]) # 90% if the bus is on time 40% if not. \n",
    "arrive_dry.set_all([0,0,0.95,0,1,1,0.05,1])\n",
    "arrive_late.set_all([0.95,0.1,np.nan,0.95,0.05,0.9,np.nan,0.05])\n"
   ]
  },
  {
   "cell_type": "code",
   "execution_count": null,
   "id": "5ee5fb1b",
   "metadata": {},
   "outputs": [],
   "source": []
  }
 ],
 "metadata": {
  "kernelspec": {
   "display_name": "Python 3",
   "language": "python",
   "name": "python3"
  },
  "language_info": {
   "codemirror_mode": {
    "name": "ipython",
    "version": 3
   },
   "file_extension": ".py",
   "mimetype": "text/x-python",
   "name": "python",
   "nbconvert_exporter": "python",
   "pygments_lexer": "ipython3",
   "version": "3.9.4"
  }
 },
 "nbformat": 4,
 "nbformat_minor": 5
}
