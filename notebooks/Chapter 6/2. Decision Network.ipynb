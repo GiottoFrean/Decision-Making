{
 "cells": [
  {
   "cell_type": "code",
   "execution_count": 1,
   "id": "9b07be65",
   "metadata": {},
   "outputs": [],
   "source": [
    "%load_ext autoreload\n",
    "%autoreload 2\n",
    "import sys\n",
    "sys.path.insert(0,'../../modules')"
   ]
  },
  {
   "cell_type": "code",
   "execution_count": 10,
   "id": "99c635be",
   "metadata": {},
   "outputs": [],
   "source": [
    "import numpy as np\n",
    "import factors\n",
    "from factors_inference import sum_product_variable_elimination"
   ]
  },
  {
   "cell_type": "code",
   "execution_count": 83,
   "id": "13912e06",
   "metadata": {},
   "outputs": [],
   "source": [
    "rain_factor = factors.Factor([\"it will rain\"],[2])\n",
    "bus_factor = factors.Factor([\"bus is early\"],[2])\n",
    "decision = factors.Factor([\"try to catch the bus\"],[2])\n",
    "catch_bus = factors.Factor([\"caught bus\",\"bus is early\",\"try to catch the bus\"],[2,2,2])\n",
    "arrive_dry = factors.Factor([\"dry\",\"it will rain\",\"caught bus\"],[2,2,2])\n",
    "arrive_late = factors.Factor([\"late\",\"caught bus\",\"try to catch the bus\"],[2,2,2])\n",
    "rain_factor.set_all([0.7,0.3]) # 30% chance of rain\n",
    "bus_factor.set_all([0.85,0.15]) # 15% chance bus is early\n",
    "catch_bus.set_all([1.0,0.1,1.0,0.6,0.0,0.9,0.0,0.4]) # 90% if the bus is on time 40% if not. \n",
    "arrive_dry.set_all([0,0,0.95,0,1,1,0.05,1])\n",
    "f = -1 # need something other than nan for values which cannot be true. Doesn't matter what this variable is.\n",
    "arrive_late.set_all([0.95,0.1,f,0.95,0.05,0.9,f,0.05])\n",
    "utility_factor = factors.Factor([\"dry\",\"late\"],[2,2])\n",
    "utility_factor.set_all([-2,-7,0,-5])\n",
    "utility_relevant_nodes = [arrive_dry,arrive_late]\n",
    "non_utility_relevent_factors = [rain_factor,bus_factor,catch_bus]"
   ]
  },
  {
   "cell_type": "code",
   "execution_count": 90,
   "id": "b32b6031",
   "metadata": {},
   "outputs": [],
   "source": [
    "def run_decision_network(decision_node,utility_nodes,utility_factor,other_nodes,evidence_vars=[],evidence_vals=[]):\n",
    "    max_utility = -np.inf\n",
    "    best_decision = -1\n",
    "    print(\"decision\",decision_node.names)\n",
    "    print(\"evidence\",dict(zip(evidence_vars,evidence_vals)))\n",
    "    for option in decision_node.indexes:\n",
    "        decision_node.array = np.zeros(decision_node.array.shape)\n",
    "        decision_node.set(option,1)\n",
    "        var_names_to_marginalize = [node.names[0] for node in [decision_node]+other_nodes]\n",
    "        all_factors = [decision_node]+utility_nodes+other_nodes\n",
    "        probs = sum_product_variable_elimination(all_factors,evidence_vars,evidence_vals,var_names_to_marginalize)\n",
    "        total_utility = np.sum(factors.product(probs,utility_factor).array)\n",
    "        print(\"choice\",option,\"UTILITY:\",total_utility.round(5))\n",
    "        if(total_utility>max_utility):\n",
    "            max_utility = total_utility\n",
    "            best_decision = option\n",
    "    return best_decision,max_utility"
   ]
  },
  {
   "cell_type": "code",
   "execution_count": 94,
   "id": "116d4496",
   "metadata": {},
   "outputs": [
    {
     "name": "stdout",
     "output_type": "stream",
     "text": [
      "decision ['try to catch the bus']\n",
      "evidence {'it will rain': 0}\n",
      "choice [0] UTILITY: -0.25\n",
      "choice [1] UTILITY: -0.99375\n",
      "best decision [0]\n"
     ]
    }
   ],
   "source": [
    "best_decision,max_utility = run_decision_network(decision,\n",
    "                             utility_relevant_nodes,\n",
    "                             utility_factor,\n",
    "                             non_utility_relevent_factors,\n",
    "                             evidence_vars=[\"it will rain\"],\n",
    "                             evidence_vals=[0])\n",
    "print(\"best decision\",best_decision)"
   ]
  },
  {
   "cell_type": "code",
   "execution_count": 95,
   "id": "5ee5fb1b",
   "metadata": {},
   "outputs": [
    {
     "name": "stdout",
     "output_type": "stream",
     "text": [
      "decision ['try to catch the bus']\n",
      "evidence {'it will rain': 1}\n",
      "choice [0] UTILITY: -2.15\n",
      "choice [1] UTILITY: -1.32625\n",
      "best decision [1]\n"
     ]
    }
   ],
   "source": [
    "best_decision,max_utility = run_decision_network(decision,\n",
    "                             utility_relevant_nodes,\n",
    "                             utility_factor,\n",
    "                             non_utility_relevent_factors,\n",
    "                             evidence_vars=[\"it will rain\"],\n",
    "                             evidence_vals=[1])\n",
    "print(\"best decision\",best_decision)"
   ]
  },
  {
   "cell_type": "code",
   "execution_count": 96,
   "id": "ed819558",
   "metadata": {},
   "outputs": [
    {
     "name": "stdout",
     "output_type": "stream",
     "text": [
      "decision ['try to catch the bus']\n",
      "evidence {}\n",
      "choice [0] UTILITY: -0.82\n",
      "choice [1] UTILITY: -1.0935\n",
      "best decision [0]\n"
     ]
    }
   ],
   "source": [
    "best_decision,max_utility = run_decision_network(decision,\n",
    "                             utility_relevant_nodes,\n",
    "                             utility_factor,\n",
    "                             non_utility_relevent_factors)\n",
    "print(\"best decision\",best_decision)"
   ]
  },
  {
   "cell_type": "code",
   "execution_count": null,
   "id": "a718dfc0",
   "metadata": {},
   "outputs": [],
   "source": []
  }
 ],
 "metadata": {
  "kernelspec": {
   "display_name": "Python 3",
   "language": "python",
   "name": "python3"
  },
  "language_info": {
   "codemirror_mode": {
    "name": "ipython",
    "version": 3
   },
   "file_extension": ".py",
   "mimetype": "text/x-python",
   "name": "python",
   "nbconvert_exporter": "python",
   "pygments_lexer": "ipython3",
   "version": "3.9.4"
  }
 },
 "nbformat": 4,
 "nbformat_minor": 5
}
