{
 "cells": [
  {
   "cell_type": "code",
   "execution_count": 1,
   "id": "attempted-rendering",
   "metadata": {},
   "outputs": [],
   "source": [
    "%load_ext autoreload\n",
    "%autoreload 2\n",
    "import sys\n",
    "sys.path.insert(0,'../../modules')"
   ]
  },
  {
   "cell_type": "code",
   "execution_count": 2,
   "id": "peripheral-teach",
   "metadata": {},
   "outputs": [],
   "source": [
    "import numpy as np\n",
    "import factors"
   ]
  },
  {
   "cell_type": "markdown",
   "id": "rubber-arrival",
   "metadata": {},
   "source": [
    "# Inference\n",
    "In inference problems we want to figure out a distribution over a variable given other variables we do and do not know. That is what inference means. We want:\n",
    "\n",
    "$$\n",
    "\\begin{aligned}\n",
    "  P(Y|X_\\text{known}) &= \\sum_{X_\\text{unknown}}P(Y,X_\\text{unknown}|X_\\text{known}) \\\\\n",
    "\\end{aligned}\n",
    "$$\n",
    "So we condition on known variables and then marginalize out the unknown variables we are not interested in. <br>\n",
    "In Bayesian networks we can do exact inference with the factor representation.<br>\n",
    "If we can represent a joint distribution with a factor, then conditioning and marginalizing are very simple, just using the formula above. Say you are interested in knowing whether you will need to get tea from the shop on the way home, given who is at home:"
   ]
  },
  {
   "cell_type": "code",
   "execution_count": 16,
   "id": "engaged-biodiversity",
   "metadata": {},
   "outputs": [
    {
     "name": "stdout",
     "output_type": "stream",
     "text": [
      "out of tea  mum  dad  Values (10 dp)\n",
      "0           0    0    0.15\n",
      "0           0    1    0.05\n",
      "0           1    0    0.1\n",
      "0           1    1    0.35\n",
      "1           0    0    0.0\n",
      "1           0    1    0.1\n",
      "1           1    0    0.05\n",
      "1           1    1    0.2\n",
      "\n"
     ]
    }
   ],
   "source": [
    "tea_factor = factors.Factor([\"out of tea\",\"mum\",\"dad\"],[2,2,2])\n",
    "tea_factor.set([0,0,0],0.15)\n",
    "tea_factor.set([0,0,1],0.05)\n",
    "tea_factor.set([0,1,0],0.1)\n",
    "tea_factor.set([0,1,1],0.35)\n",
    "tea_factor.set([1,0,0],0.0)\n",
    "tea_factor.set([1,0,1],0.1)\n",
    "tea_factor.set([1,1,0],0.05)\n",
    "tea_factor.set([1,1,1],0.2)\n",
    "print(tea_factor)"
   ]
  },
  {
   "cell_type": "code",
   "execution_count": null,
   "id": "automated-blackberry",
   "metadata": {},
   "outputs": [],
   "source": []
  },
  {
   "cell_type": "code",
   "execution_count": 31,
   "id": "potential-banks",
   "metadata": {},
   "outputs": [],
   "source": [
    "#factors.condition(tea_factor,[\"out of tea\"])"
   ]
  },
  {
   "cell_type": "code",
   "execution_count": 75,
   "id": "therapeutic-league",
   "metadata": {},
   "outputs": [
    {
     "name": "stdout",
     "output_type": "stream",
     "text": [
      "out of tea  mum  Values (10 dp)\n",
      "0           0    0.05\n",
      "0           1    0.35\n",
      "1           0    0.1\n",
      "1           1    0.2\n",
      "\n"
     ]
    }
   ],
   "source": [
    "nope = factors.cut_variables(tea_factor,[\"dad\"],[1])\n",
    "print(nope)"
   ]
  },
  {
   "cell_type": "code",
   "execution_count": null,
   "id": "statewide-liver",
   "metadata": {},
   "outputs": [],
   "source": []
  },
  {
   "cell_type": "code",
   "execution_count": null,
   "id": "sharing-minnesota",
   "metadata": {},
   "outputs": [],
   "source": []
  },
  {
   "cell_type": "code",
   "execution_count": null,
   "id": "taken-former",
   "metadata": {},
   "outputs": [],
   "source": []
  }
 ],
 "metadata": {
  "kernelspec": {
   "display_name": "Python 3",
   "language": "python",
   "name": "python3"
  },
  "language_info": {
   "codemirror_mode": {
    "name": "ipython",
    "version": 3
   },
   "file_extension": ".py",
   "mimetype": "text/x-python",
   "name": "python",
   "nbconvert_exporter": "python",
   "pygments_lexer": "ipython3",
   "version": "3.9.2"
  }
 },
 "nbformat": 4,
 "nbformat_minor": 5
}
