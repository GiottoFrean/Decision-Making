{
 "cells": [
  {
   "cell_type": "code",
   "execution_count": 1,
   "id": "attempted-rendering",
   "metadata": {},
   "outputs": [],
   "source": [
    "%load_ext autoreload\n",
    "%autoreload 2\n",
    "import sys\n",
    "sys.path.insert(0,'../../modules')"
   ]
  },
  {
   "cell_type": "code",
   "execution_count": 10,
   "id": "peripheral-teach",
   "metadata": {},
   "outputs": [],
   "source": [
    "import numpy as np\n",
    "import factors\n",
    "import exact_inference"
   ]
  },
  {
   "cell_type": "markdown",
   "id": "rubber-arrival",
   "metadata": {},
   "source": [
    "# Inference\n",
    "In inference problems we want to figure out a distribution over a variable given other variables we do and do not know. We want:\n",
    "\n",
    "$$\n",
    "\\begin{aligned}\n",
    "  P(Y|X_\\text{known}) &= \\sum_{X_\\text{unknown}}P(Y,X_\\text{unknown}|X_\\text{known}) \\\\\n",
    "\\end{aligned}\n",
    "$$\n",
    "So we condition on known variables and then marginalize out the unknown variables we are not interested in. <br>\n",
    "In Bayesian networks we can do exact inference with the factor representation.<br>\n",
    "If we can represent a joint distribution with a factor, then conditioning and marginalizing are very simple, just using the formula above. Say you are interested in knowing whether you will need to get tea from the shop on the way home, given who is at home (using 0 for False and 1 for True):"
   ]
  },
  {
   "cell_type": "code",
   "execution_count": 11,
   "id": "engaged-biodiversity",
   "metadata": {},
   "outputs": [
    {
     "name": "stdout",
     "output_type": "stream",
     "text": [
      "out of tea  mums home  dads home  Values (10 dp)\n",
      "0           0          0          0.15\n",
      "0           0          1          0.05\n",
      "0           1          0          0.1\n",
      "0           1          1          0.35\n",
      "1           0          0          0.0\n",
      "1           0          1          0.1\n",
      "1           1          0          0.05\n",
      "1           1          1          0.2\n",
      "\n"
     ]
    }
   ],
   "source": [
    "tea_factor = factors.Factor([\"out of tea\",\"mums home\",\"dads home\"],[2,2,2])\n",
    "tea_factor.set([0,0,0],0.15)\n",
    "tea_factor.set([0,0,1],0.05)\n",
    "tea_factor.set([0,1,0],0.1)\n",
    "tea_factor.set([0,1,1],0.35)\n",
    "tea_factor.set([1,0,0],0.0)\n",
    "tea_factor.set([1,0,1],0.1)\n",
    "tea_factor.set([1,1,0],0.05)\n",
    "tea_factor.set([1,1,1],0.2)\n",
    "print(tea_factor)"
   ]
  },
  {
   "cell_type": "markdown",
   "id": "faced-halifax",
   "metadata": {},
   "source": [
    "And you know that dad isn't home, but you aren't sure about mum."
   ]
  },
  {
   "cell_type": "code",
   "execution_count": 12,
   "id": "therapeutic-league",
   "metadata": {},
   "outputs": [
    {
     "name": "stdout",
     "output_type": "stream",
     "text": [
      "out of tea  Values (10 dp)\n",
      "0           0.8333333333\n",
      "1           0.1666666667\n",
      "\n"
     ]
    }
   ],
   "source": [
    "set_dads_home_to_0 = factors.drop_variables(tea_factor,[\"dads home\"],[0])\n",
    "conditoned_dads_home_0 = factors.condition(set_dads_home_to_0)\n",
    "marginalize_mums_home = factors.marginalize(conditoned_dads_home_0,[\"mums home\"])\n",
    "print(marginalize_mums_home)"
   ]
  },
  {
   "cell_type": "markdown",
   "id": "naked-fireplace",
   "metadata": {},
   "source": [
    "This can be checked very easily with monte carlo inference (explained in next notebook) just using samples from the joint and discarding those for which the conditional is not correct (rejection sampling)"
   ]
  },
  {
   "cell_type": "code",
   "execution_count": 113,
   "id": "sharing-minnesota",
   "metadata": {},
   "outputs": [
    {
     "name": "stdout",
     "output_type": "stream",
     "text": [
      "estimated not out of tea prob: 0.8178571428571428\n",
      "estimated out of tea prob    : 0.18214285714285713\n"
     ]
    }
   ],
   "source": [
    "samples = factors.sample(tea_factor,1000)\n",
    "total_out_of_tea = np.sum((samples[:,0]==1)*(samples[:,2]==0))\n",
    "total_not_out_of_tea = np.sum((samples[:,0]==0)*(samples[:,2]==0))\n",
    "\n",
    "print(\"estimated not out of tea prob:\",total_not_out_of_tea/(total_out_of_tea+total_not_out_of_tea))\n",
    "print(\"estimated out of tea prob    :\",total_out_of_tea/(total_out_of_tea+total_not_out_of_tea))"
   ]
  },
  {
   "cell_type": "markdown",
   "id": "alternative-graduate",
   "metadata": {},
   "source": [
    "So, exact inference on a factor is easy. However, creating the full joint table is very expensive for high numbers of variables. Fortunately it is possible to condition and marginalize out variables at the deconstructed level:"
   ]
  },
  {
   "cell_type": "markdown",
   "id": "editorial-circuit",
   "metadata": {},
   "source": [
    "# The Sum-Product Algorithm\n",
    "Say we have a joint probability which can be written in terms of conditionals, e.g: <br>\n",
    "$$P(A,B,C,D)=P(D|B)P(B|A,C)P(A)P(C)$$\n",
    "which in turn can be written in terms of factors:\n",
    "$$P(A,B,C,D)=\\phi_1(D,B)\\phi_2(B,A,C)\\phi_3(A)\\phi_4(C)$$\n",
    "Then we can condition on each variable we know and repeatedly perform factor multiplication and marginalization of unknown variables. <br>"
   ]
  },
  {
   "cell_type": "code",
   "execution_count": 114,
   "id": "through-confidence",
   "metadata": {},
   "outputs": [],
   "source": [
    "factor1 = factors.Factor([\"D\",\"B\"],[2,2])\n",
    "factor1.set_all([0.6,0.3,0.4,0.7])\n",
    "factor2 = factors.Factor([\"B\",\"A\",\"C\"],[2,2,2])\n",
    "factor2.set_all([0.2,0.6,0.1,0.5,0.8,0.4,0.9,0.5])\n",
    "factor3 = factors.Factor([\"A\"],2)\n",
    "factor3.set_all([0.25,0.75])\n",
    "factor4 = factors.Factor([\"C\"],2)\n",
    "factor4.set_all([0.65,0.35])\n",
    "all_factors = [factor1,factor2,factor3,factor4]\n",
    "evidence_names = [\"D\"]\n",
    "evidence_vals = [1]\n",
    "unknown_names = [\"A\",\"C\"]"
   ]
  },
  {
   "cell_type": "code",
   "execution_count": 115,
   "id": "historic-corner",
   "metadata": {
    "scrolled": false
   },
   "outputs": [
    {
     "name": "stdout",
     "output_type": "stream",
     "text": [
      "B  Values (10 dp)\n",
      "0  0.1708299758\n",
      "1  0.8291700242\n",
      "\n"
     ]
    }
   ],
   "source": [
    "print(exact_inference.sum_product_variable_elimination(all_factors,evidence_names,evidence_vals,unknown_names))"
   ]
  },
  {
   "cell_type": "markdown",
   "id": "awful-annotation",
   "metadata": {},
   "source": [
    "### We can check this gives the same answer with the full joint factor:"
   ]
  },
  {
   "cell_type": "code",
   "execution_count": 116,
   "id": "useful-consultancy",
   "metadata": {
    "scrolled": false
   },
   "outputs": [
    {
     "name": "stdout",
     "output_type": "stream",
     "text": [
      "B  Values (10 dp)\n",
      "0  0.1708299758\n",
      "1  0.8291700242\n",
      "\n"
     ]
    }
   ],
   "source": [
    "print(exact_inference.full_joint_elimination(all_factors,evidence_names,evidence_vals,unknown_names))"
   ]
  },
  {
   "cell_type": "markdown",
   "id": "boxed-affiliation",
   "metadata": {},
   "source": [
    "Code to run these algorithms is in the exact_inference.py file. More examples:"
   ]
  },
  {
   "cell_type": "code",
   "execution_count": 117,
   "id": "impossible-target",
   "metadata": {},
   "outputs": [
    {
     "name": "stdout",
     "output_type": "stream",
     "text": [
      "D  Values (10 dp)\n",
      "0  0.402\n",
      "1  0.598\n",
      "\n"
     ]
    }
   ],
   "source": [
    "f_sumP = exact_inference.sum_product_variable_elimination(all_factors,[\"A\"],[0],[\"B\",\"C\"])\n",
    "print(f_sumP)"
   ]
  },
  {
   "cell_type": "code",
   "execution_count": 118,
   "id": "bottom-buffer",
   "metadata": {},
   "outputs": [
    {
     "name": "stdout",
     "output_type": "stream",
     "text": [
      "D  Values (10 dp)\n",
      "0  0.402\n",
      "1  0.598\n",
      "\n"
     ]
    }
   ],
   "source": [
    "f_full_table = exact_inference.full_joint_elimination(all_factors,[\"A\"],[0],[\"B\",\"C\"])\n",
    "print(f_full_table)"
   ]
  },
  {
   "cell_type": "markdown",
   "id": "owned-commissioner",
   "metadata": {},
   "source": [
    "I am fairly sure the sum product code is correct, but there might be some edge case issues.\n",
    "Notebook 2 in this chapter discusses approximations with sampling. "
   ]
  }
 ],
 "metadata": {
  "kernelspec": {
   "display_name": "Python 3",
   "language": "python",
   "name": "python3"
  },
  "language_info": {
   "codemirror_mode": {
    "name": "ipython",
    "version": 3
   },
   "file_extension": ".py",
   "mimetype": "text/x-python",
   "name": "python",
   "nbconvert_exporter": "python",
   "pygments_lexer": "ipython3",
   "version": "3.9.2"
  }
 },
 "nbformat": 4,
 "nbformat_minor": 5
}
