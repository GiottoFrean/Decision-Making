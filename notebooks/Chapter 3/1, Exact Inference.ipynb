{
 "cells": [
  {
   "cell_type": "code",
   "execution_count": 1,
   "id": "attempted-rendering",
   "metadata": {},
   "outputs": [],
   "source": [
    "%load_ext autoreload\n",
    "%autoreload 2\n",
    "import sys\n",
    "sys.path.insert(0,'../../modules')"
   ]
  },
  {
   "cell_type": "code",
   "execution_count": 2,
   "id": "peripheral-teach",
   "metadata": {},
   "outputs": [],
   "source": [
    "import numpy as np\n",
    "import factors"
   ]
  },
  {
   "cell_type": "markdown",
   "id": "rubber-arrival",
   "metadata": {},
   "source": [
    "# Inference\n",
    "In inference problems we want to figure out a distribution over a variable given other variables we do and do not know. We want:\n",
    "\n",
    "$$\n",
    "\\begin{aligned}\n",
    "  P(Y|X_\\text{known}) &= \\sum_{X_\\text{unknown}}P(Y,X_\\text{unknown}|X_\\text{known}) \\\\\n",
    "\\end{aligned}\n",
    "$$\n",
    "So we condition on known variables and then marginalize out the unknown variables we are not interested in. <br>\n",
    "In Bayesian networks we can do exact inference with the factor representation.<br>\n",
    "If we can represent a joint distribution with a factor, then conditioning and marginalizing are very simple, just using the formula above. Say you are interested in knowing whether you will need to get tea from the shop on the way home, given who is at home (using 0 for False and 1 for True):"
   ]
  },
  {
   "cell_type": "code",
   "execution_count": 99,
   "id": "engaged-biodiversity",
   "metadata": {},
   "outputs": [
    {
     "name": "stdout",
     "output_type": "stream",
     "text": [
      "out of tea  mums home  dads home  Values (10 dp)\n",
      "0           0          0          0.15\n",
      "0           0          1          0.05\n",
      "0           1          0          0.1\n",
      "0           1          1          0.35\n",
      "1           0          0          0.0\n",
      "1           0          1          0.1\n",
      "1           1          0          0.05\n",
      "1           1          1          0.2\n",
      "\n"
     ]
    }
   ],
   "source": [
    "tea_factor = factors.Factor([\"out of tea\",\"mums home\",\"dads home\"],[2,2,2])\n",
    "tea_factor.set([0,0,0],0.15)\n",
    "tea_factor.set([0,0,1],0.05)\n",
    "tea_factor.set([0,1,0],0.1)\n",
    "tea_factor.set([0,1,1],0.35)\n",
    "tea_factor.set([1,0,0],0.0)\n",
    "tea_factor.set([1,0,1],0.1)\n",
    "tea_factor.set([1,1,0],0.05)\n",
    "tea_factor.set([1,1,1],0.2)\n",
    "print(tea_factor)"
   ]
  },
  {
   "cell_type": "markdown",
   "id": "faced-halifax",
   "metadata": {},
   "source": [
    "And you know that dad isn't home, but you aren't sure about mum."
   ]
  },
  {
   "cell_type": "code",
   "execution_count": 104,
   "id": "therapeutic-league",
   "metadata": {},
   "outputs": [
    {
     "name": "stdout",
     "output_type": "stream",
     "text": [
      "out of tea  Values (10 dp)\n",
      "0           0.8333333333\n",
      "1           0.1666666667\n",
      "\n"
     ]
    }
   ],
   "source": [
    "set_dads_home_to_0 = factors.drop_variables(tea_factor,[\"dads home\"],[0])\n",
    "conditoned_dads_home_0 = factors.condition(set_dads_home_to_0)\n",
    "marginalize_mums_home = factors.marginalize(conditoned_dads_home_0,[\"mums home\"])\n",
    "print(marginalize_mums_home)"
   ]
  },
  {
   "cell_type": "markdown",
   "id": "naked-fireplace",
   "metadata": {},
   "source": [
    "This can be checked very easily with rejection sampling (explained in next notebook) just using samples from the joint and discarding those for which the conditional is not correct."
   ]
  },
  {
   "cell_type": "code",
   "execution_count": 105,
   "id": "sharing-minnesota",
   "metadata": {},
   "outputs": [
    {
     "name": "stdout",
     "output_type": "stream",
     "text": [
      "estimated not out of tea prob: 0.8387644263408011\n",
      "estimated out of tea prob    : 0.1612355736591989\n"
     ]
    }
   ],
   "source": [
    "array = tea_factor.array\n",
    "indexes = tea_factor.indexes\n",
    "value_grid = np.mgrid[:2,:2,:2]\n",
    "total_not_out_of_tea = 0\n",
    "total_out_of_tea = 0\n",
    "for sample in range(10000):\n",
    "    row = np.random.choice(np.arange(8),p=tea_factor.array.reshape(-1))\n",
    "    setting = indexes[row]\n",
    "    if(setting[2]==0):\n",
    "        if(setting[0]==0):\n",
    "            total_not_out_of_tea+=1\n",
    "        else:\n",
    "            total_out_of_tea+=1\n",
    "print(\"estimated not out of tea prob:\",total_not_out_of_tea/(total_not_out_of_tea+total_out_of_tea))\n",
    "print(\"estimated out of tea prob    :\",total_out_of_tea/(total_not_out_of_tea+total_out_of_tea))"
   ]
  },
  {
   "cell_type": "markdown",
   "id": "alternative-graduate",
   "metadata": {},
   "source": [
    "So, exact inference on a factor is easy. However, creating the full joint table is very expensive for high numbers of variables. Fortunately it is possible to condition and marginalize out variables at the deconstructed level:"
   ]
  },
  {
   "cell_type": "markdown",
   "id": "editorial-circuit",
   "metadata": {},
   "source": [
    "# The Sum-Product Algorithm\n",
    "Say we have a joint probability which has been decomposed into a product of factors, e.g: <br>"
   ]
  },
  {
   "cell_type": "code",
   "execution_count": null,
   "id": "affiliated-unknown",
   "metadata": {},
   "outputs": [],
   "source": []
  }
 ],
 "metadata": {
  "kernelspec": {
   "display_name": "Python 3",
   "language": "python",
   "name": "python3"
  },
  "language_info": {
   "codemirror_mode": {
    "name": "ipython",
    "version": 3
   },
   "file_extension": ".py",
   "mimetype": "text/x-python",
   "name": "python",
   "nbconvert_exporter": "python",
   "pygments_lexer": "ipython3",
   "version": "3.9.2"
  }
 },
 "nbformat": 4,
 "nbformat_minor": 5
}
