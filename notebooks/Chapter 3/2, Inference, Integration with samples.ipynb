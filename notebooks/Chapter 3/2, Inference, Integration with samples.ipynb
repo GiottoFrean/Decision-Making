{
 "cells": [
  {
   "cell_type": "code",
   "execution_count": 2,
   "id": "identical-carroll",
   "metadata": {},
   "outputs": [],
   "source": [
    "%load_ext autoreload\n",
    "%autoreload 2\n",
    "import sys\n",
    "sys.path.insert(0,'../../modules')"
   ]
  },
  {
   "cell_type": "code",
   "execution_count": 13,
   "id": "accessible-rainbow",
   "metadata": {},
   "outputs": [],
   "source": [
    "import numpy as np\n",
    "import common_plots\n",
    "import factors\n",
    "import plotly.graph_objects as go\n",
    "import exact_inference\n",
    "import matplotlib.pyplot as plt"
   ]
  },
  {
   "cell_type": "markdown",
   "id": "60f1d1f8",
   "metadata": {},
   "source": [
    "# Integration by sampling\n",
    "In many problems we want to know the value of an integral of a function, $\\int g(x) dx$, but don't have an analytical form for the equation. Thankfully it is possible to build an estimate using what is called monte carlo integration: <br>\n",
    "### Monte Carlo Formula\n",
    "The expected value of a function $f$ of a random variable $X$ is given: \n",
    "$$\\mathbb{E}(f(X)) = \\int f(x)p(x) dx$$\n",
    "Monte Carlo estimation provides an approximation to this value by sampling:\n",
    "$$\\int f(x)p(x) dx \\approx \\frac{1}{N}\\sum_{n=1}^N f(x_n)$$ where $x_n$ is sampled from the distribution $p(x)$ <br>\n",
    "This approximation approaches the truth as the number of samples increases.<br>\n",
    "**Example:** Say the function is $f(x)=2x$ and the distribution is $U[0,3]$ <br>\n",
    "The true expectation is $\\int_0^3 2x \\times \\frac{1}{3} dx = \\int_0^3 \\frac{2}{3} x dx = \\bigg[\\frac{1}{3}x^2 \\bigg]_0^3= \\frac{1}{3}\\times 3^2 - \\frac{1}{3}\\times 0^2 = \\frac{1}{3}\\times 9 = 3$ <br>\n",
    "with samples:"
   ]
  },
  {
   "cell_type": "code",
   "execution_count": 10,
   "id": "07dd6881",
   "metadata": {
    "scrolled": false
   },
   "outputs": [
    {
     "name": "stdout",
     "output_type": "stream",
     "text": [
      "2.987389269944217\n"
     ]
    }
   ],
   "source": [
    "samples = np.random.uniform(0,3,1000)\n",
    "functions = samples*2\n",
    "integration_approx = (1/len(samples))*np.sum(functions)\n",
    "print(integration_approx)"
   ]
  },
  {
   "cell_type": "markdown",
   "id": "6aa84555",
   "metadata": {},
   "source": [
    "### Unnormalized Importance sampling\n",
    "We can reshape the formula to get an important variant where we can sample with an easier distribution $q(x)$.\n",
    "$$\\int f(x)p(x) dx = \\int f(x)\\frac{p(x)}{q(x)}q(x) dx$$\n",
    "Using the formula:\n",
    "$$\\int f(x)\\frac{p(x)}{q(x)}q(x) dx \\approx \\frac{1}{N}\\sum_{n=1}^N f(x_n)\\frac{p(x_n)}{q(x_n)}$$\n",
    "Where $x_n$ is sampled from $q(x)$. <br>"
   ]
  },
  {
   "cell_type": "markdown",
   "id": "68863574",
   "metadata": {},
   "source": [
    "### Normalized Importance Sampling\n",
    "What the above requires is knowing $p(x_n)$, but sometimes this is difficult to calculate. Say that instead we can get the unnormalized value, $p'(x)$ = $\\alpha p(x)$. <br>\n",
    "$$\\alpha=\\int p'(x)dx$$ \n",
    "as $\\alpha$ is the normalization of $P'$. This can be restated:\n",
    "$$\\int p'(x)dx = \\int \\frac{p'(x)}{q(x)}q(x) dx$$\n",
    "Now looking at the Expectation over $f$:\n",
    "$$\n",
    "\\begin{aligned}\n",
    "  \\mathbb{E}(f(X)) &= \\int f(x)p(x)dx \\\\\n",
    "  &= \\frac{1}{\\alpha} \\int f(x)p'(x)dx \\\\\n",
    "  &= \\frac{1}{\\alpha} \\int f(x)\\frac{p'(x)}{q(x)}q(x)dx \\\\\n",
    "  &= \\frac{\\int f(x)\\frac{p'(x)}{q(x)}q(x)dx}{\\int \\frac{p'(x)}{q(x)}q(x) dx} \\\\\n",
    "\\end{aligned}\n",
    "$$\n",
    "Let $r(x)=\\frac{p'(x)}{q(x)}$\n",
    "$$\n",
    "\\begin{aligned}\n",
    "  \\mathbb{E}(f(X)) &= \\frac{\\int f(x)r(x)q(x)dx}{\\int r(x)q(x) dx} \\\\\n",
    "  & \\approx \\frac{\\sum f(x_n)r(x_n)}{\\sum r(x_n)}\n",
    "\\end{aligned} $$\n",
    "That last step is difficult. As I understand, you take the monte carlo approach to the top and bottom of the equation, so $\\int f(x)r(x)q(x)dx$ becomes $\\frac{1}{N} f(x_n)r(x_n)$ and $\\int r(x)q(x)dx$ becomes $\\frac{1}{N} r(x_n)$ where $x_n$ is drawn from $q(x)$. Then the $\\frac{1}{N}$ on the numerator and denominator cancel out. <br>\n",
    "So, you weight every sample by the ratio and divide by the sum of weights. <br>"
   ]
  },
  {
   "cell_type": "markdown",
   "id": "d73cc7f8",
   "metadata": {},
   "source": [
    "**Example:** Say you have a mixture model made by 2 uniform distributions: $U_1 = U[0,3]$, $U_2 = U[2,4]$ with weights $\\frac{2}{3},\\frac{1}{3}$. The true probabilitiy density function is: <br>\n",
    "$$\n",
    "p(x)=\n",
    "\\left\\{\n",
    "\\begin{aligned}\n",
    "  & \\frac{1}{3} \\times \\frac{2}{3}  \\hspace{2.5cm} \\text{for} \\hspace{0.25cm}  x \\epsilon U_1 \\\\\n",
    "  & \\frac{1}{3} \\times \\frac{2}{3} + \\frac {1}{2} \\times \\frac{1}{3} \\hspace{0.45cm} \\text{for} \\hspace{0.25cm}  x \\epsilon U_1 \\text{and} \\hspace{0.25cm}  x \\epsilon U_2  \\\\\n",
    "  & \\frac {1}{2} \\times \\frac{1}{3}  \\hspace{2.5cm} \\text{for} \\hspace{0.25cm}  x \\epsilon U_2 \\\\\n",
    "\\end{aligned}\n",
    "\\right.\n",
    "$$\n",
    "And we want the total probability between $0.5$ and $3.5$ (The function $f(x)$ is just counting if $x$ is in the range $[0.5,3.5]$ with 0 if it isn't 1 if it is. <br>\n",
    "Then: $\\int f(x)p(x)=\\int \\mathbb{1}(0.5 \\geq x \\leq 3.5)p(x)$"
   ]
  },
  {
   "cell_type": "markdown",
   "id": "ce317feb",
   "metadata": {},
   "source": [
    "The true distribution (red, the black lines show the limits)"
   ]
  },
  {
   "cell_type": "code",
   "execution_count": 239,
   "id": "43609016",
   "metadata": {},
   "outputs": [
    {
     "data": {
      "image/png": "[encoded data removed]",
      "text/plain": [
       "<Figure size 432x288 with 1 Axes>"
      ]
     },
     "metadata": {
      "needs_background": "light"
     },
     "output_type": "display_data"
    }
   ],
   "source": [
    "def p(x):\n",
    "    prob=0\n",
    "    if(x>=0 and x<=3):\n",
    "        prob+=(1/3)*(2/3)\n",
    "    if(x>=2 and x<=4):\n",
    "        prob+=(1/2)*(1/3)\n",
    "    return prob\n",
    "probabilities = np.array([p(x) for x in np.linspace(-1,5,1000)])\n",
    "plt.plot(np.linspace(-1,5,1000),probabilities,linewidth=2,color=\"red\")\n",
    "plt.plot([0.5,0.5],[0,0.4],linewidth=2,color=\"black\")\n",
    "plt.plot([3.5,3.5],[0,0.4],linewidth=2,color=\"black\")\n",
    "plt.show()"
   ]
  },
  {
   "cell_type": "markdown",
   "id": "0e116831",
   "metadata": {},
   "source": [
    "We can easily find the true area by calculating it (everything is just a box): $\\frac{2}{9}\\times1.5+(\\frac{2}{9}+\\frac{1}{6})\\times1+\\frac{1}{6}\\times0.5=\\frac{29}{36}$"
   ]
  },
  {
   "cell_type": "code",
   "execution_count": 242,
   "id": "76d23719",
   "metadata": {},
   "outputs": [
    {
     "name": "stdout",
     "output_type": "stream",
     "text": [
      "0.8055555555555555\n",
      "0.8055555555555556\n"
     ]
    }
   ],
   "source": [
    "print((2/9)*1.5+((2/9)+(1/6))*1+(1/6)*0.5)\n",
    "print(29/36)"
   ]
  },
  {
   "cell_type": "markdown",
   "id": "28f8a83d",
   "metadata": {},
   "source": [
    "First, approximating with unnormalized importance sampling. Here using a uniform distribution between $-1$ and $5$ as $q(x):$"
   ]
  },
  {
   "cell_type": "code",
   "execution_count": 257,
   "id": "681d6a38",
   "metadata": {
    "scrolled": false
   },
   "outputs": [
    {
     "name": "stdout",
     "output_type": "stream",
     "text": [
      "0.8105\n"
     ]
    }
   ],
   "source": [
    "samples = np.random.uniform(-1,5,10000)\n",
    "p_x = np.array([p(x) for x in samples])\n",
    "f_x = (samples>=0.5)*(samples<=3.5)*1\n",
    "q_x = np.ones_like(p_x)*(1/6)\n",
    "approximation = (1/len(samples))*np.sum(f_x*(p_x/q_x))\n",
    "print(approximation)"
   ]
  },
  {
   "cell_type": "markdown",
   "id": "b3813008",
   "metadata": {},
   "source": [
    "Now, approximating with normalized importance sampling. Here, sampling from a normal distribution and using an unnormalized $p'(x)$."
   ]
  },
  {
   "cell_type": "code",
   "execution_count": 258,
   "id": "c1788439",
   "metadata": {},
   "outputs": [],
   "source": [
    "def p_dash(x,alpha):\n",
    "    prob=0\n",
    "    if(x>=0 and x<=3):\n",
    "        prob+=(1/3)*(2/3)\n",
    "    if(x>=2 and x<=4):\n",
    "        prob+=(1/2)*(1/3)\n",
    "    return prob*alpha"
   ]
  },
  {
   "cell_type": "code",
   "execution_count": 280,
   "id": "7e5708c3",
   "metadata": {},
   "outputs": [
    {
     "name": "stdout",
     "output_type": "stream",
     "text": [
      "0.8038751417328086\n"
     ]
    }
   ],
   "source": [
    "samples = np.random.uniform(-1,5,10000)\n",
    "p_dash_x = np.array([p_dash(x,1) for x in samples])\n",
    "f_x = (samples>=0.5)*(samples<=3.5)*1\n",
    "q_x = np.ones_like(p_dash_x)*(1/6)\n",
    "weights = p_dash_x/q_x\n",
    "approximation = (1/np.sum(weights))*np.sum(f_x*weights)\n",
    "print(approximation)"
   ]
  },
  {
   "cell_type": "markdown",
   "id": "healthy-viewer",
   "metadata": {},
   "source": [
    "### Extension to any integral\n",
    "We can reshape the formula to get an approximation to the integral of any function. If $f(x)=\\frac{g(x)}{p(x)}$ then the formula becomes:\n",
    "$$\\int \\frac{f(x)}{p(x)}p(x) dx \\approx \\frac{1}{N}\\sum_{n=1}^N \\frac{g(x_n)}{p(x_n)}$$\n",
    "which simplifies to:\n",
    "$$\\int g(x) dx \\approx \\frac{1}{N}\\sum_{n=1}^N \\frac{g(x_n)}{p(x_n)}$$\n",
    "Which gives the integral of a function without worrying about the distribution. Though obviously a distribution which doesn't reach all parts of the integral will give poor results."
   ]
  },
  {
   "cell_type": "markdown",
   "id": "upset-turtle",
   "metadata": {},
   "source": [
    "**Example:**\n",
    "Choosing a function $g$:\n",
    "$$\n",
    "g(x)=\n",
    "\\Bigg\\{\n",
    "\\begin{aligned}\n",
    "  & \\frac{\\cos{x}}{x^{2}+1}  \\hspace{0.5cm} \\text{for} \\hspace{0.25cm}  x \\epsilon [-5,5] \\\\\n",
    "  & 0 \\hspace{2.75cm} \\text{otherwise}\n",
    "\\end{aligned}\n",
    "$$\n",
    "Showing the function:"
   ]
  },
  {
   "cell_type": "code",
   "execution_count": 281,
   "id": "desirable-option",
   "metadata": {},
   "outputs": [
    {
     "data": {
      "image/png": "[encoded data removed]"
     },
     "metadata": {},
     "output_type": "display_data"
    }
   ],
   "source": [
    "def g(x): return (1/(x**2+1))*np.cos(x)*(np.abs(x)<=5)\n",
    "x_for_display = np.linspace(-5,5,1000)\n",
    "g_values_for_display = g(x_for_display)\n",
    "fig = go.Figure()\n",
    "fig.add_trace(go.Scatter(x=x_for_display, \n",
    "                         y=g_values_for_display,\n",
    "                         mode=\"lines\",\n",
    "                         showlegend=False,\n",
    "                         line=dict(width=4,color=\"blue\")))\n",
    "common_plots.set_basic_layout(fig)\n",
    "fig.show(renderer=\"png\",width=500,height=200)"
   ]
  },
  {
   "cell_type": "markdown",
   "id": "agricultural-present",
   "metadata": {},
   "source": [
    "The integral cannot be found by solving, so we could approximate it with sampling. For instance, using the uniform distribution between -5 and 5:"
   ]
  },
  {
   "cell_type": "code",
   "execution_count": 282,
   "id": "indoor-pixel",
   "metadata": {},
   "outputs": [
    {
     "name": "stdout",
     "output_type": "stream",
     "text": [
      "monte carlo approximation, uniform sampling: 1.0919730071043483\n"
     ]
    }
   ],
   "source": [
    "x_U = np.random.uniform(-5,5,1000000)\n",
    "y_U = g(x_U)\n",
    "prob_x_U = 1/10\n",
    "print(\"monte carlo approximation, uniform sampling:\",np.mean(y_U)/prob_x_U)"
   ]
  },
  {
   "cell_type": "markdown",
   "id": "southwest-cream",
   "metadata": {},
   "source": [
    "This lines up well with the approximation given by an online integral calculator, at 1.086264940339325 <br>\n",
    "It is useful to note that in the above case the probability was the same for all values, so could be pulled out of the equation:$$\\sum \\frac{g(x)}{p(x)} = \\sum \\frac{g(x)}{\\frac{1}{b-a}}$$.\n",
    "$$ = (b-a) \\sum g(x) $$."
   ]
  },
  {
   "cell_type": "markdown",
   "id": "unexpected-hazard",
   "metadata": {},
   "source": [
    "But, it is also obviously possible to use something like a gaussian instead:"
   ]
  },
  {
   "cell_type": "code",
   "execution_count": 283,
   "id": "immune-momentum",
   "metadata": {},
   "outputs": [
    {
     "name": "stdout",
     "output_type": "stream",
     "text": [
      "monte carlo approximation, gaussian sampling 1.094421262267126\n"
     ]
    }
   ],
   "source": [
    "mean = 0\n",
    "sigma = 1\n",
    "x_G = np.random.normal(mean,sigma,1000000)\n",
    "y_G = g(x_G)\n",
    "prob_x_G = (1/(sigma*np.sqrt(2*np.pi)))*np.exp(-0.5*((x_G-mean)**2)/(sigma**2))\n",
    "print(\"monte carlo approximation, gaussian sampling\",np.mean(y_G/prob_x_G))"
   ]
  },
  {
   "cell_type": "markdown",
   "id": "heard-canvas",
   "metadata": {},
   "source": [
    "The results are suprisingly good, even without truncating the gaussian. In this case you would want to cut the limits to be between -5 and 5."
   ]
  },
  {
   "cell_type": "markdown",
   "id": "soviet-canadian",
   "metadata": {},
   "source": [
    "It is worth mentioning at least 1 alternative. You could instead make a grid of values and assess the integral at each point in the grid. The area under the curve is approximated with the resulting histogram. As the number of steps grows the accuracy increases as well."
   ]
  },
  {
   "cell_type": "code",
   "execution_count": 284,
   "id": "norman-workplace",
   "metadata": {},
   "outputs": [
    {
     "data": {
      "image/png": "[encoded data removed]"
     },
     "metadata": {},
     "output_type": "display_data"
    },
    {
     "name": "stdout",
     "output_type": "stream",
     "text": [
      "integral approximation: 0.9641681678745516\n"
     ]
    },
    {
     "data": {
      "image/png": "[encoded data removed]"
     },
     "metadata": {},
     "output_type": "display_data"
    },
    {
     "name": "stdout",
     "output_type": "stream",
     "text": [
      "integral approximation: 1.0669440174672717\n"
     ]
    },
    {
     "data": {
      "image/png": "[encoded data removed]"
     },
     "metadata": {},
     "output_type": "display_data"
    },
    {
     "name": "stdout",
     "output_type": "stream",
     "text": [
      "integral approximation: 1.076548325994053\n"
     ]
    },
    {
     "data": {
      "image/png": "[encoded data removed]"
     },
     "metadata": {},
     "output_type": "display_data"
    },
    {
     "name": "stdout",
     "output_type": "stream",
     "text": [
      "integral approximation: 1.0813928072754462\n"
     ]
    }
   ],
   "source": [
    "for grid_size in [10,50,100,200]:\n",
    "    x_grid = np.linspace(-5,5,grid_size)\n",
    "    g_grid_out = g(x_grid)\n",
    "    fig = go.Figure([go.Bar(x=x_grid, y=g_grid_out)])\n",
    "    common_plots.set_basic_layout(fig)\n",
    "    fig.show(renderer=\"png\",width=500,height=200)\n",
    "    dx = 10/grid_size # gets the x spacing of each box. \n",
    "    integral_approximation = np.sum(dx*g_grid_out)\n",
    "    print(\"integral approximation:\",integral_approximation)"
   ]
  },
  {
   "cell_type": "markdown",
   "id": "mighty-acquisition",
   "metadata": {},
   "source": [
    "# Monte Carlo for Inference\n",
    "One of the main uses of monte carlo techniques is in infering conditional distributions. You would like to get the probability mass in a given range, so need an integrator. E.g use samples from the conditional joint $p(B,D|A,C)$ to approximate things like $P(D|B,A,C)$. <br>\n",
    "The key realization is that with a joint probability $p(X,Y,Z)$ you can integrate out variables, $$\\int_X p(X,Y,Z) = P(Y,Z)$$ and write conditionals as one joint divided by another: $$p(X|Y,Z)=P(X,Y,Z)/P(Y,Z)$$ <br>\n",
    "$P(X,Y,Z)$ and $P(Y,Z)$ can be approximated by counting the number of times they occur in the joint.\n",
    "Using the same factors from earlier, say we want $P(D|A=0,B,C=0)$ (don't know $B$)."
   ]
  },
  {
   "cell_type": "code",
   "execution_count": 285,
   "id": "aggressive-gibraltar",
   "metadata": {},
   "outputs": [],
   "source": [
    "factor1 = factors.Factor([\"D\",\"B\"],[2,2])\n",
    "factor1.set_all([0.6,0.3,0.4,0.7])\n",
    "factor2 = factors.Factor([\"B\",\"A\",\"C\"],[2,2,2])\n",
    "factor2.set_all([0.2,0.6,0.1,0.5,0.8,0.4,0.9,0.5])\n",
    "factor3 = factors.Factor([\"A\"],2)\n",
    "factor3.set_all([0.25,0.75])\n",
    "factor4 = factors.Factor([\"C\"],2)\n",
    "factor4.set_all([0.65,0.35])\n",
    "all_factors = [factor1,factor2,factor3,factor4]\n",
    "known_vars = [\"A\",\"C\"]\n",
    "evidence = [0,0]"
   ]
  },
  {
   "cell_type": "markdown",
   "id": "joined-confusion",
   "metadata": {},
   "source": [
    "To do monte carlo driven inference we need to sample from the conditional joint distribution. Getting that:"
   ]
  },
  {
   "cell_type": "code",
   "execution_count": 286,
   "id": "brave-disorder",
   "metadata": {},
   "outputs": [
    {
     "name": "stdout",
     "output_type": "stream",
     "text": [
      "D  B  Values (10 dp)\n",
      "0  0  0.12\n",
      "0  1  0.24\n",
      "1  0  0.08\n",
      "1  1  0.56\n",
      "\n"
     ]
    }
   ],
   "source": [
    "new_factors = []\n",
    "for f in all_factors:\n",
    "    deleted_f = factors.drop_variables(f,known_vars,evidence)\n",
    "    if(deleted_f!=None):\n",
    "        new_factors.append(deleted_f)\n",
    "combined_factor = factors.multiple_factor_product(new_factors)\n",
    "combined_factor_norm = factors.condition(combined_factor)\n",
    "print(combined_factor_norm)"
   ]
  },
  {
   "cell_type": "markdown",
   "id": "swiss-buffalo",
   "metadata": {},
   "source": [
    "Then using monte carlo techniques:"
   ]
  },
  {
   "cell_type": "code",
   "execution_count": 287,
   "id": "narrow-portuguese",
   "metadata": {},
   "outputs": [
    {
     "name": "stdout",
     "output_type": "stream",
     "text": [
      "0.592\n",
      "0.3\n",
      "0.408\n",
      "0.7\n"
     ]
    }
   ],
   "source": [
    "samples = factors.sample(combined_factor_norm,1000)\n",
    "prob_d0_b0 = np.sum((samples[:,0]==0)*(samples[:,1]==0))\n",
    "prob_d0_b1 = np.sum((samples[:,0]==0)*(samples[:,1]==1))\n",
    "prob_d1_b0 = np.sum((samples[:,0]==1)*(samples[:,1]==0))\n",
    "prob_d1_b1 = np.sum((samples[:,0]==1)*(samples[:,1]==1))\n",
    "prob_b0 = prob_d0_b0+prob_d1_b0\n",
    "prob_b1 = prob_d0_b1+prob_d1_b1\n",
    "prob_d0_given_b0 = prob_d0_b0/prob_b0\n",
    "prob_d0_given_b1 = prob_d0_b1/prob_b1\n",
    "prob_d1_given_b0 = prob_d1_b0/prob_b0\n",
    "prob_d1_given_b1 = prob_d1_b1/prob_b1\n",
    "\n",
    "print(prob_d0_given_b0.round(3))\n",
    "print(prob_d0_given_b1.round(3))\n",
    "print(prob_d1_given_b0.round(3))\n",
    "print(prob_d1_given_b1.round(3))"
   ]
  },
  {
   "cell_type": "markdown",
   "id": "owned-chocolate",
   "metadata": {},
   "source": [
    "Which matches closely with what you get with the analytical answer:"
   ]
  },
  {
   "cell_type": "code",
   "execution_count": 288,
   "id": "declared-chest",
   "metadata": {},
   "outputs": [
    {
     "name": "stdout",
     "output_type": "stream",
     "text": [
      "D  B  Values (10 dp)\n",
      "0  0  0.6\n",
      "0  1  0.3\n",
      "1  0  0.4\n",
      "1  1  0.7\n",
      "\n"
     ]
    }
   ],
   "source": [
    "print(factors.condition(combined_factor_norm,\"B\"))"
   ]
  },
  {
   "cell_type": "markdown",
   "id": "intellectual-baking",
   "metadata": {},
   "source": [
    "# Sampling a Factor\n",
    "The problem with the above method is it still requires calculating the full joint for conditionals. There are more efficient ways to sample from a factor which are discussed in the next notebook, which then makes monte carlo inference much more viable."
   ]
  },
  {
   "cell_type": "markdown",
   "id": "cheap-xerox",
   "metadata": {},
   "source": [
    "# Why does counting samples work?\n",
    "The reason counting the number of times a variable is sampled works is because the probability of a variable can be expressed with indicator functions (1 if true, 0 if false):\n",
    "$$P(X=x_n)=\\int \\mathbb{1}(x=x_n)p(x) dx$$\n",
    "This just says the probability of a model is the integration of the probability distribution where the model is true. This is the same as saying:\n",
    "$$P(X<x_n)=\\int_{-\\inf}^x p(x) $$\n",
    "The top equation can be turned into a monte carlo equation:\n",
    "$$\\int \\mathbb{1}(x=x_n)p(x) dx \\approx \\frac{1}{N} \\sum_{i=1}^N \\mathbb{1}(x_i=x_n) $$"
   ]
  },
  {
   "cell_type": "code",
   "execution_count": 289,
   "id": "expanded-carol",
   "metadata": {},
   "outputs": [
    {
     "name": "stdout",
     "output_type": "stream",
     "text": [
      "0.3309\n"
     ]
    }
   ],
   "source": [
    "# This is just to say, the probability of a variable is approximated by its occurances in samples:\n",
    "some_samples = np.random.randint(0,3,10000)\n",
    "prob_1 = np.sum(some_samples==1)/len(some_samples)\n",
    "print(prob_1) # expect this to be around 1/3"
   ]
  }
 ],
 "metadata": {
  "kernelspec": {
   "display_name": "Python 3",
   "language": "python",
   "name": "python3"
  },
  "language_info": {
   "codemirror_mode": {
    "name": "ipython",
    "version": 3
   },
   "file_extension": ".py",
   "mimetype": "text/x-python",
   "name": "python",
   "nbconvert_exporter": "python",
   "pygments_lexer": "ipython3",
   "version": "3.9.4"
  }
 },
 "nbformat": 4,
 "nbformat_minor": 5
}
