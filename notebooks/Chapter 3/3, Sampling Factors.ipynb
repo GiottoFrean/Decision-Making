{
 "cells": [
  {
   "cell_type": "code",
   "execution_count": 1,
   "id": "rural-footage",
   "metadata": {},
   "outputs": [],
   "source": [
    "%load_ext autoreload\n",
    "%autoreload 2\n",
    "import sys\n",
    "sys.path.insert(0,'../../modules')"
   ]
  },
  {
   "cell_type": "code",
   "execution_count": 2,
   "id": "1fad460e",
   "metadata": {},
   "outputs": [],
   "source": [
    "import numpy as np\n",
    "import factors\n",
    "import exact_inference"
   ]
  },
  {
   "cell_type": "markdown",
   "id": "cfd533f1",
   "metadata": {},
   "source": [
    "# Sampling top down\n",
    "When sampling a pgm one option is to make the full joint and sample from that. This requires making one large factor which might not be viable. Another option is to sample the top (root) nodes first, then condition all further samples on their parent nodes. This means you can sample the full joint without needing to merge all factors. <br>\n",
    "Example: Making the graph $A$ and $B$ (independent) cause $C$ which then causes $D$ and $E$ (independent given $C$)"
   ]
  },
  {
   "cell_type": "code",
   "execution_count": 15,
   "id": "acf875cf",
   "metadata": {},
   "outputs": [
    {
     "name": "stdout",
     "output_type": "stream",
     "text": [
      "A  Values (10 dp)\n",
      "0  0.1479563948\n",
      "1  0.8520436052\n",
      "\n",
      "B  Values (10 dp)\n",
      "0  0.97984558\n",
      "1  0.02015442\n",
      "\n",
      "C  A  B  Values (10 dp)\n",
      "0  0  0  0.4746630658\n",
      "0  0  1  0.6171417913\n",
      "0  1  0  0.1049336214\n",
      "0  1  1  0.5606639895\n",
      "1  0  0  0.5253369342\n",
      "1  0  1  0.3828582087\n",
      "1  1  0  0.8950663786\n",
      "1  1  1  0.4393360105\n",
      "\n",
      "D  C  Values (10 dp)\n",
      "0  0  0.4578824282\n",
      "0  1  0.0989491596\n",
      "1  0  0.5421175718\n",
      "1  1  0.9010508404\n",
      "\n",
      "E  C  Values (10 dp)\n",
      "0  0  0.428876864\n",
      "0  1  0.8124597115\n",
      "1  0  0.571123136\n",
      "1  1  0.1875402885\n",
      "\n"
     ]
    }
   ],
   "source": [
    "# making random values\n",
    "A = factors.Factor([\"A\"],[2])\n",
    "B = factors.Factor([\"B\"],[2])\n",
    "C = factors.Factor([\"C\",\"A\",\"B\"],[2,2,2])\n",
    "D = factors.Factor([\"D\",\"C\"],[2,2])\n",
    "E = factors.Factor([\"E\",\"C\"],[2,2])\n",
    "all_factors = []\n",
    "for f in [A,B,C,D,E]:\n",
    "    f.set_all(np.random.rand(np.prod(f.array.shape)))\n",
    "    cond_f = factors.condition(f,list(f.names[1:]))\n",
    "    all_factors.append(cond_f)\n",
    "for f in all_factors:\n",
    "    print(f)"
   ]
  },
  {
   "cell_type": "code",
   "execution_count": 16,
   "id": "d4807ca1",
   "metadata": {},
   "outputs": [],
   "source": [
    "# assumes the first variable in each factor is dependent on all others in the factor\n",
    "def joint_sample_top_down(all_factors):\n",
    "    assigned_variable_names = []\n",
    "    variable_assignments = []\n",
    "    remaining_factors = all_factors.copy()\n",
    "    \n",
    "    while(len(remaining_factors)>0):\n",
    "        new_assigned_variable_names = assigned_variable_names.copy()\n",
    "        new_variable_assignments = variable_assignments.copy()\n",
    "        new_remaining_factors = []\n",
    "        for f in remaining_factors:\n",
    "            if(len(f.names)==1 or np.prod([i in assigned_variable_names for i in f.names[1:]])==1):\n",
    "                conditioned_factor = factors.drop_variables(f,assigned_variable_names,variable_assignments)\n",
    "                new_variable_assignments.append(factors.sample(conditioned_factor,1)[0][0])\n",
    "                new_assigned_variable_names.append(f.names[0])\n",
    "            else:\n",
    "                new_remaining_factors.append(f)\n",
    "        assigned_variable_names = new_assigned_variable_names\n",
    "        variable_assignments = new_variable_assignments\n",
    "        remaining_factors = new_remaining_factors\n",
    "    return assigned_variable_names,variable_assignments"
   ]
  },
  {
   "cell_type": "markdown",
   "id": "884d654d",
   "metadata": {},
   "source": [
    "**Checking the results:**"
   ]
  },
  {
   "cell_type": "code",
   "execution_count": 17,
   "id": "18d6dc9c",
   "metadata": {},
   "outputs": [
    {
     "name": "stdout",
     "output_type": "stream",
     "text": [
      "C  Values (10 dp)\n",
      "0  0.1604\n",
      "1  0.8396\n",
      "\n"
     ]
    }
   ],
   "source": [
    "all_samples = []\n",
    "for n in range(5000):\n",
    "    names,assignments = joint_sample_top_down(all_factors)\n",
    "    all_samples.append(assignments)\n",
    "all_samples = np.array(all_samples)\n",
    "prob_C_sampled = factors.Factor([\"C\"],[2])\n",
    "prob_C_sampled.set([0],np.sum(all_samples[:,2]==0)/all_samples.shape[0])\n",
    "prob_C_sampled.set([1],np.sum(all_samples[:,2]==1)/all_samples.shape[0])\n",
    "print(prob_C_sampled)"
   ]
  },
  {
   "cell_type": "code",
   "execution_count": 18,
   "id": "f6edef34",
   "metadata": {},
   "outputs": [
    {
     "name": "stdout",
     "output_type": "stream",
     "text": [
      "C  Values (10 dp)\n",
      "0  0.1678883296\n",
      "1  0.8321116704\n",
      "\n"
     ]
    }
   ],
   "source": [
    "prob_C_exact = exact_inference.sum_product_variable_elimination(all_factors,[],[],[\"A\",\"B\",\"D\",\"E\"])\n",
    "print(prob_C_exact)"
   ]
  },
  {
   "cell_type": "markdown",
   "id": "a1443793",
   "metadata": {},
   "source": [
    "# Direct Sampling, Likelihood weighted sampling, Gibbs Sampling\n",
    "One problem with the above is that you can only sample the full joint this way. But often we need to sample a conditional distribution instead. If it is difficult to sample if the observed variables are the bottom nodes in a pgm, as it means sampling all parent nodes backwards. Whereas if the root nodes are known then it is easy, as above. There are a few options to deal with this."
   ]
  },
  {
   "cell_type": "markdown",
   "id": "589be114",
   "metadata": {},
   "source": [
    "### Direct Sampling\n",
    "With direct sampling you sample the full joint like above and simply throw away all samples which don't match the observed variables. This is basically rejection sampling. Say we want to know $P(C)$ as above, but only if $A$ is 0 (using the same samples as before)"
   ]
  },
  {
   "cell_type": "code",
   "execution_count": 19,
   "id": "4f894d13",
   "metadata": {},
   "outputs": [
    {
     "name": "stdout",
     "output_type": "stream",
     "text": [
      "C  Values (10 dp)\n",
      "0  0.4706703911\n",
      "1  0.5293296089\n",
      "\n"
     ]
    }
   ],
   "source": [
    "samples_where_A0 = all_samples[all_samples[:,0]==0]\n",
    "prob_C_given_A_sampled = factors.Factor([\"C\"],[2])\n",
    "prob_C_given_A_sampled.set([0],np.sum(samples_where_A0[:,2]==0)/samples_where_A0.shape[0])\n",
    "prob_C_given_A_sampled.set([1],np.sum(samples_where_A0[:,2]==1)/samples_where_A0.shape[0])\n",
    "print(prob_C_given_A_sampled)"
   ]
  },
  {
   "cell_type": "markdown",
   "id": "0634669f",
   "metadata": {},
   "source": [
    "**checking the approximation is close to the exact value**"
   ]
  },
  {
   "cell_type": "code",
   "execution_count": 24,
   "id": "7e1aefdb",
   "metadata": {},
   "outputs": [
    {
     "name": "stdout",
     "output_type": "stream",
     "text": [
      "C  Values (10 dp)\n",
      "0  0.4775346419\n",
      "1  0.5224653581\n",
      "\n"
     ]
    }
   ],
   "source": [
    "prob_C_given_A_exact = exact_inference.sum_product_variable_elimination(all_factors,[\"A\"],[0],[\"B\",\"D\",\"E\"])\n",
    "print(prob_C_given_A_exact)"
   ]
  },
  {
   "cell_type": "markdown",
   "id": "a3db649f",
   "metadata": {},
   "source": [
    "### Likelihood weighting\n",
    "With Likelihood weighting you sample all unknown variables as normal, but set the known variables to their value. This means all children are correctly sampled based on the parent values, but the parents are not sampled based on the children. So, you are sampling correct looking variables, but with a slightly incorect distribution. This is Importance Sampling applied to factors.\n",
    "$$P(X=x_n) = \\int \\mathbb{1}(x=x_n)p(x) dx \\approx \\frac{1}{N} \\sum_{i=1}^N \\mathbb{1}(x_i=x_n) $$\n",
    "Becomes:\n",
    "$$\\int \\mathbb{1}(x=x_n)p(x) dx \\approx \\frac{1}{\\sum \\frac{p(x_n)}{q(x_n)}} \\sum_{i=1}^N \\frac{\\mathbb{1}(x_i=x_n)p(x_n)}{q(x_n)} $$\n",
    "Using the formula for normalized importance sampling. The distribution we sample from, $q(x)$, is constructed as above by setting observed values. The true probability $p(x)$ is the multiplication of all of the normalized conditional probabilities regardless of whether the observed value was set or not. $q(x)$ is the same, but $1$ whereever the value was assigned by evidence. Therefore, $\\frac{p(x)}{q(x)}$ (the weight) is just the product of the probabilities at the observed variables."
   ]
  },
  {
   "cell_type": "code",
   "execution_count": 21,
   "id": "270b1f01",
   "metadata": {},
   "outputs": [],
   "source": [
    "# assumes the first variable in each factor is dependent on all others in the factor\n",
    "def likelihood_weighting_top_down(all_factors,known_vars,evidence):\n",
    "    assigned_variable_names = []\n",
    "    variable_assignments = []\n",
    "    weight = 1\n",
    "    remaining_factors = all_factors.copy()\n",
    "    \n",
    "    while(len(remaining_factors)>0):\n",
    "        new_assigned_variable_names = assigned_variable_names.copy()\n",
    "        new_variable_assignments = variable_assignments.copy()\n",
    "        new_remaining_factors = []\n",
    "        for f in remaining_factors:\n",
    "            if(len(f.names)==1 or np.prod([i in assigned_variable_names for i in f.names[1:]])==1):\n",
    "                var_dropped_factor = factors.drop_variables(f,assigned_variable_names,variable_assignments)\n",
    "                conditioned_factor = factors.condition(var_dropped_factor)\n",
    "                if(f.names[0] in known_vars):\n",
    "                    evid = evidence[known_vars.index(f.names[0])]\n",
    "                    new_variable_assignments.append(evid)\n",
    "                    weight *= conditioned_factor.get([evid])\n",
    "                else:\n",
    "                    sample = factors.sample(conditioned_factor,1)[0][0]\n",
    "                    new_variable_assignments.append(sample)\n",
    "                    \n",
    "                new_assigned_variable_names.append(f.names[0])\n",
    "            else:\n",
    "                new_remaining_factors.append(f)\n",
    "        assigned_variable_names = new_assigned_variable_names\n",
    "        variable_assignments = new_variable_assignments\n",
    "        remaining_factors = new_remaining_factors\n",
    "    return assigned_variable_names,variable_assignments,weight"
   ]
  },
  {
   "cell_type": "markdown",
   "id": "3bb54a96",
   "metadata": {},
   "source": [
    "**Checking results again:**"
   ]
  },
  {
   "cell_type": "code",
   "execution_count": 25,
   "id": "12fa6989",
   "metadata": {},
   "outputs": [
    {
     "name": "stdout",
     "output_type": "stream",
     "text": [
      "C  Values (10 dp)\n",
      "0  0.469\n",
      "1  0.531\n",
      "\n"
     ]
    }
   ],
   "source": [
    "all_LW_samples = []\n",
    "all_LW_weights = []\n",
    "for n in range(1000):\n",
    "    names,assignments,weight = likelihood_weighting_top_down(all_factors,[\"A\"],[0])\n",
    "    all_LW_samples.append(assignments)\n",
    "    all_LW_weights.append(weight)\n",
    "all_LW_samples = np.array(all_LW_samples)\n",
    "all_LW_weights = np.array(all_LW_weights)\n",
    "\n",
    "prob_C_given_A_LW_sampled = factors.Factor([\"C\"],[2])\n",
    "prob_C_given_A_LW_sampled.set([0],np.sum(all_LW_weights*(all_LW_samples[:,2]==0))/np.sum(all_LW_weights))\n",
    "prob_C_given_A_LW_sampled.set([1],np.sum(all_LW_weights*(all_LW_samples[:,2]==1))/np.sum(all_LW_weights))\n",
    "print(prob_C_given_A_LW_sampled)"
   ]
  },
  {
   "cell_type": "markdown",
   "id": "932f8c05",
   "metadata": {},
   "source": [
    "### Gibbs sampling"
   ]
  },
  {
   "cell_type": "code",
   "execution_count": null,
   "id": "e0555c39",
   "metadata": {},
   "outputs": [],
   "source": []
  }
 ],
 "metadata": {
  "kernelspec": {
   "display_name": "Python 3",
   "language": "python",
   "name": "python3"
  },
  "language_info": {
   "codemirror_mode": {
    "name": "ipython",
    "version": 3
   },
   "file_extension": ".py",
   "mimetype": "text/x-python",
   "name": "python",
   "nbconvert_exporter": "python",
   "pygments_lexer": "ipython3",
   "version": "3.9.4"
  }
 },
 "nbformat": 4,
 "nbformat_minor": 5
}
